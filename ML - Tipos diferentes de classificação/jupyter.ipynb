{
 "cells": [
  {
   "cell_type": "markdown",
   "id": "b4b6e840-9341-4e6f-8783-cd270c25c150",
   "metadata": {},
   "source": [
    "# <font color=green> Machine Learning: Classificação por trás dos panos\n",
    "---"
   ]
  },
  {
   "cell_type": "markdown",
   "id": "7fbd3db6-e098-4628-b30d-58aedbb87312",
   "metadata": {},
   "source": [
    "# -----------------------------------------NOVOS CONCEITOS DE CLASSIFICAÇÃO-----------------------------------------\n",
    "\n",
    "    * Como classificar um elemento em 3 categorias\n",
    "    * Os algoritmos One vs Rest e One vs One\n",
    "    * A comparação entre os algoritmos OneVsRest, OneVsOne, MultinomialNB e AdaBoostClassifier"
   ]
  },
  {
   "cell_type": "markdown",
   "id": "3e30a88a-7ea3-4554-9734-2a54fb8291e2",
   "metadata": {},
   "source": [
    "- Cliente\n",
    "    - variáveis:\n",
    "        * Recencia: O quão recente é o último acesso\n",
    "        * Frequências: Quantas vezes ele acessou a plataforma\n",
    "        * Cadastro: Quando ele se cadastrou \n",
    "    - Com essas 3 variáveis , quero dizer se meu cliente está: Alegre(2) / Neutro(1) / Insatisfeito(0) com meu produto! (3 CATEGORIAS) "
   ]
  },
  {
   "cell_type": "markdown",
   "id": "c5cb5cb8-0cbf-4ecd-8e86-959ee7352f64",
   "metadata": {},
   "source": [
    "- Assim, vamos utilizar o ONE VS REST para classifcação com mais de 2 categorias:\n",
    "    * 0=>0      1=>1,2  LinearSVC 0 ou do resto (38%, resto 62%) \n",
    "    * 0=>0,2    1=>1    LinearSVC 1 ou do resto (44%, resto 56%) \n",
    "    * 0=>0,1    2=>2    LinearSVC 2 ou do resto (20%, resto 80%) "
   ]
  },
  {
   "cell_type": "markdown",
   "id": "337ee410-e11e-4419-844f-d0e8bec71c6a",
   "metadata": {},
   "source": [
    "* Também podemos utilizar o ONE VS ONE para classifcação com mais de 2 categorias tabém:\n",
    "    * se tivermos n categorias, vamos rodar n*n classificadores. Onde temos um a um cada categoria "
   ]
  },
  {
   "cell_type": "markdown",
   "id": "be1ad4c7-a2cd-4de1-bc0b-18c5c444907a",
   "metadata": {},
   "source": [
    "# -----------------------------------------UTILIZANDO O K-FOLD-----------------------------------------\n",
    "\n",
    "    * O processo de treino, teste e validação\n",
    "    * O funcionamento do processo quando a ordem dos seus dados é alterada\n",
    "    * A validação cruzada com o algoritmo k-fold\n",
    "    * Como implementar o k-fold"
   ]
  },
  {
   "cell_type": "markdown",
   "id": "0c4604a0-80fd-4758-9cdd-2e88a4ef39fb",
   "metadata": {},
   "source": [
    "* Quando estamos alterando a ordem dos dados de treino e teste, podemos quebrar em k pedaços de tal forma que , caso sejam:\n",
    "    * 2 pedaços:: 1°: primeira metade treina e segunda testa && 2°: primeira metade testa e segunda treina\n",
    "    * 3 pedaços:: 1°: primeiro pedaço treina e resto testa && segundo pedaço treina e o resto testa && terceiro pedaço treina e o resto testa\n",
    "*  Ou seja, realizo os testes para CADA UMA DAS PARTIÇÕES "
   ]
  },
  {
   "cell_type": "code",
   "execution_count": 3,
   "id": "3c0e21bc-2484-4a5d-bb1a-ac8346d85378",
   "metadata": {},
   "outputs": [],
   "source": [
    "from typing import Counter\n",
    "import pandas as pd\n",
    "import numpy as np\n",
    "from sklearn.model_selection import cross_val_score # já vai fazar o fit, predict e devolver as notas\n",
    "\n",
    "df = pd.read_csv('clientes.csv')\n",
    "X_df = df[['recencia','frequencia', 'semanas_de_inscricao']]\n",
    "Y_df = df['situacao']\n",
    "\n",
    "Xdummies_df = pd.get_dummies(X_df)\n",
    "Ydummies_df = Y_df\n",
    "\n",
    "X = Xdummies_df.values\n",
    "Y = Ydummies_df.values \n",
    "\n",
    "porcentagem_de_treino_e_teste = 0.9\n",
    "\n",
    "tamanho_de_treino_e_teste = int(porcentagem_de_treino_e_teste * len(Y))\n",
    "\n",
    "treino_dados = X[:tamanho_de_treino_e_teste]\n",
    "treino_marcacoes = Y[:tamanho_de_treino_e_teste]\n",
    "\n",
    "validacao_dados = X[tamanho_de_treino_e_teste:]\n",
    "validacao_marcacoes = Y[tamanho_de_treino_e_teste:]"
   ]
  },
  {
   "cell_type": "code",
   "execution_count": 4,
   "id": "5fbeb6ee-3597-4457-91c3-81b3d3fb4f25",
   "metadata": {},
   "outputs": [],
   "source": [
    "def fit_and_predict(nome, modelo, treino_dados, treino_marcacoes):\n",
    "    k = 10\n",
    "    scores = cross_val_score(modelo, treino_dados, treino_marcacoes, cv = k)\n",
    "    taxa_de_acerto = np.mean(scores)\n",
    "    msg = f'A taxa de acerto de {nome} foi: {taxa_de_acerto}'\n",
    "    print(msg)\n",
    "    return(taxa_de_acerto)\n",
    "\n",
    "def teste_real(modelo, validacao_dados, validacao_marcacoes):\n",
    "    resultado = modelo.predict(validacao_dados)\n",
    "\n",
    "    acertos = resultado == validacao_marcacoes\n",
    "\n",
    "    total_de_acertos = sum(acertos)\n",
    "    total_de_elementos = len(validacao_marcacoes)\n",
    "\n",
    "    taxa_de_acerto = 100.0 * total_de_acertos / total_de_elementos\n",
    "\n",
    "    msg = \"Taxa de acerto do vencedor entre os algoritmos no mundo real: {0}\".format(taxa_de_acerto)\n",
    "    print(msg)"
   ]
  },
  {
   "cell_type": "code",
   "execution_count": 5,
   "id": "d009850f-a141-4e57-9ab9-ee2252a53b73",
   "metadata": {},
   "outputs": [
    {
     "name": "stdout",
     "output_type": "stream",
     "text": [
      "A taxa de acerto de OneVsRest foi: 0.9257142857142858\n",
      "A taxa de acerto de OneVsOne foi: 1.0\n",
      "A taxa de acerto de MultinomialNB foi: 0.8366666666666667\n",
      "A taxa de acerto de AdaBoostClassifier foi: 0.7528571428571429\n"
     ]
    }
   ],
   "source": [
    "resultados = {}\n",
    "\n",
    "from sklearn.multiclass import OneVsRestClassifier\n",
    "from sklearn.svm import LinearSVC\n",
    "modeloOneVsRest = OneVsRestClassifier(LinearSVC(random_state = 0, max_iter=10000))\n",
    "resultadoOneVsRest = fit_and_predict(\"OneVsRest\", modeloOneVsRest, treino_dados, treino_marcacoes)\n",
    "resultados[resultadoOneVsRest] = modeloOneVsRest\n",
    "\n",
    "from sklearn.multiclass import OneVsOneClassifier\n",
    "modeloOneVsOne = OneVsOneClassifier(LinearSVC(random_state = 0, max_iter=10000))\n",
    "resultadoOneVsOne = fit_and_predict(\"OneVsOne\", modeloOneVsOne, treino_dados, treino_marcacoes)\n",
    "resultados[resultadoOneVsOne] = modeloOneVsOne\n",
    "\n",
    "from sklearn.naive_bayes import MultinomialNB\n",
    "modeloMultinomial = MultinomialNB()\n",
    "resultadoMultinomial = fit_and_predict(\"MultinomialNB\", modeloMultinomial, treino_dados, treino_marcacoes)\n",
    "resultados[resultadoMultinomial] = modeloMultinomial\n",
    "\n",
    "from sklearn.ensemble import AdaBoostClassifier\n",
    "modeloAdaBoost = AdaBoostClassifier()\n",
    "resultadoAdaBoost = fit_and_predict(\"AdaBoostClassifier\", modeloAdaBoost, treino_dados, treino_marcacoes)\n",
    "resultados[resultadoAdaBoost] = modeloAdaBoost"
   ]
  },
  {
   "cell_type": "code",
   "execution_count": 6,
   "id": "6fb222d6-7ce8-4ff1-af80-4a862c0bd63d",
   "metadata": {},
   "outputs": [
    {
     "name": "stdout",
     "output_type": "stream",
     "text": [
      "(0.9257142857142858, OneVsRestClassifier(estimator=LinearSVC(max_iter=10000, random_state=0)))\n",
      "(1.0, OneVsOneClassifier(estimator=LinearSVC(max_iter=10000, random_state=0)))\n",
      "(0.8366666666666667, MultinomialNB())\n",
      "(0.7528571428571429, AdaBoostClassifier())\n"
     ]
    }
   ],
   "source": [
    "for r in resultados.items():\n",
    "    print(r)"
   ]
  },
  {
   "cell_type": "code",
   "execution_count": 7,
   "id": "2d0e2f3d-bad3-4e94-86b0-c385eb13444a",
   "metadata": {},
   "outputs": [],
   "source": [
    "maximo = max(resultados)\n",
    "vencedor = resultados[maximo]"
   ]
  },
  {
   "cell_type": "code",
   "execution_count": 8,
   "id": "a88e8306-6745-4a4d-b606-634eeb6b328c",
   "metadata": {},
   "outputs": [
    {
     "name": "stdout",
     "output_type": "stream",
     "text": [
      "Vencerdor: \n",
      "OneVsOneClassifier(estimator=LinearSVC(max_iter=10000, random_state=0))\n"
     ]
    }
   ],
   "source": [
    "print(\"Vencerdor: \")\n",
    "print(vencedor)"
   ]
  },
  {
   "cell_type": "code",
   "execution_count": 9,
   "id": "cf50d310-8168-4092-8829-736de92281f0",
   "metadata": {},
   "outputs": [
    {
     "data": {
      "text/plain": [
       "OneVsOneClassifier(estimator=LinearSVC(max_iter=10000, random_state=0))"
      ]
     },
     "execution_count": 9,
     "metadata": {},
     "output_type": "execute_result"
    }
   ],
   "source": [
    "vencedor.fit(treino_dados, treino_marcacoes)"
   ]
  },
  {
   "cell_type": "code",
   "execution_count": 10,
   "id": "37a67b30-6fd0-4a25-ba79-aa03ba996079",
   "metadata": {},
   "outputs": [
    {
     "name": "stdout",
     "output_type": "stream",
     "text": [
      "Taxa de acerto do vencedor entre os algoritmos no mundo real: 100.0\n"
     ]
    }
   ],
   "source": [
    "teste_real(vencedor, validacao_dados, validacao_marcacoes)"
   ]
  },
  {
   "cell_type": "code",
   "execution_count": 11,
   "id": "9e9bd14d-8264-45bc-9739-54d7d9487433",
   "metadata": {},
   "outputs": [
    {
     "name": "stdout",
     "output_type": "stream",
     "text": [
      "Taxa de acerto base: 82.608696\n"
     ]
    }
   ],
   "source": [
    "acerto_base = max(Counter(validacao_marcacoes).values())\n",
    "taxa_de_acerto_base = 100.0 * acerto_base / len(validacao_marcacoes)\n",
    "print(\"Taxa de acerto base: %f\" % taxa_de_acerto_base)"
   ]
  },
  {
   "cell_type": "code",
   "execution_count": 12,
   "id": "2e52bd93-c0c2-4b40-b3bc-bbaed1edc28d",
   "metadata": {},
   "outputs": [
    {
     "name": "stdout",
     "output_type": "stream",
     "text": [
      "Total de teste: 23\n"
     ]
    }
   ],
   "source": [
    "total_de_elementos = len(validacao_dados)\n",
    "print(\"Total de teste: %d\" % total_de_elementos)"
   ]
  },
  {
   "cell_type": "markdown",
   "id": "c684aca1-668e-42a5-b44d-569ba5becd71",
   "metadata": {},
   "source": [
    "# -----------------------------------------Criando Dicionário e Classificando Textos-----------------------------------------\n",
    "\n",
    "    * Como classificar texto\n",
    "    * Como implementar o código que cria um dicionário com todas as palavras distintas de um CSV\n",
    "    * Como representar as palavras em números\n",
    "    * Como representar uma frase em um array\n",
    "    * Como utilizar algoritmo One vs Rest e realizar o teste de validação"
   ]
  },
  {
   "cell_type": "markdown",
   "id": "7e6dd8b6-aebe-459c-b2f3-68dd6681070a",
   "metadata": {},
   "source": [
    "Classificar textos em:\n",
    "* Comercial : \"Se eu comprar cinco anos antecipados, eu ganho algum desconto?\"\n",
    "* Técnico   : \"O exercício 15 do curso de Java 1 está com a resposta errada. Pode conferir pf?\"\n",
    "* Carreira  : \"Existe algum curso para cuidar do marketing da minha empresa?\""
   ]
  },
  {
   "cell_type": "code",
   "execution_count": 37,
   "id": "4cc442d7-0b5b-4ea5-accb-21ccf7d6e11b",
   "metadata": {},
   "outputs": [],
   "source": [
    "import pandas as pd\n",
    "from collections import Counter\n",
    "import numpy as np\n",
    "from sklearn.model_selection import cross_val_score"
   ]
  },
  {
   "cell_type": "code",
   "execution_count": 38,
   "id": "05641a41-af16-4649-90aa-42d153c0bb63",
   "metadata": {
    "tags": []
   },
   "outputs": [],
   "source": [
    "import nltk\n",
    "#nltk.download('stopwords')\n",
    "#nltk.download('rslp') # \"removedor de sufixo da lingua portuguesa\"\n",
    "#nltk.download('punkt') "
   ]
  },
  {
   "cell_type": "code",
   "execution_count": 39,
   "id": "3272412e-4315-4d61-a63e-e0a40dadde1c",
   "metadata": {
    "tags": []
   },
   "outputs": [],
   "source": [
    "classificacoes = pd.read_csv('emails.csv')\n",
    "textosPuros = classificacoes['email']\n",
    "#Recuperando textos em tokens e em minúsculo\n",
    "textosQuebrados = textosPuros.str.lower().str.split(' ')\n",
    "dicionario = set()"
   ]
  },
  {
   "cell_type": "code",
   "execution_count": 40,
   "id": "0660206d-57ab-442c-8cca-3b781c1ef991",
   "metadata": {},
   "outputs": [],
   "source": [
    "for lista in textosQuebrados:\n",
    "    dicionario.update(lista)"
   ]
  },
  {
   "cell_type": "code",
   "execution_count": 41,
   "id": "d3406965-9f7d-409e-a539-44643ed18f46",
   "metadata": {
    "tags": []
   },
   "outputs": [],
   "source": [
    "#dicionario"
   ]
  },
  {
   "cell_type": "code",
   "execution_count": 42,
   "id": "464bb07d-53a3-4af9-9374-18c805aa467a",
   "metadata": {},
   "outputs": [
    {
     "name": "stdout",
     "output_type": "stream",
     "text": [
      "364\n"
     ]
    }
   ],
   "source": [
    "totalDePalavras = len(dicionario)\n",
    "tuplas = zip(dicionario, range(totalDePalavras))\n",
    "tradutor = {palavra: indice for palavra, indice in tuplas}\n",
    "print(totalDePalavras)"
   ]
  },
  {
   "cell_type": "code",
   "execution_count": 43,
   "id": "59fe01b2-4582-4dd8-9553-2dc1f2c64f7c",
   "metadata": {
    "collapsed": true,
    "jupyter": {
     "outputs_hidden": true
    },
    "tags": []
   },
   "outputs": [
    {
     "data": {
      "text/plain": [
       "{'': 0,\n",
       " 'programação.': 1,\n",
       " 'interesse': 2,\n",
       " 'erro': 3,\n",
       " 'devo': 4,\n",
       " 'interessado': 5,\n",
       " 'plano,': 6,\n",
       " 'aplicações': 7,\n",
       " 'dependente': 8,\n",
       " 'conta': 9,\n",
       " 'olá,': 10,\n",
       " 'versão': 11,\n",
       " 'de': 12,\n",
       " 'nome': 13,\n",
       " 'aulas,': 14,\n",
       " 'começar,': 15,\n",
       " 'filho?': 16,\n",
       " 'almejando': 17,\n",
       " 'necessário': 18,\n",
       " 'programar,': 19,\n",
       " 'comunidade': 20,\n",
       " 'plano': 21,\n",
       " 'controle': 22,\n",
       " 'conhecimento': 23,\n",
       " 'sobre': 24,\n",
       " 'faço?': 25,\n",
       " 'serei': 26,\n",
       " 'sistemas': 27,\n",
       " 'google': 28,\n",
       " 'ficamos': 29,\n",
       " 'paypal,': 30,\n",
       " 'quem': 31,\n",
       " 'cancelou': 32,\n",
       " 'próprio': 33,\n",
       " 'coloquei': 34,\n",
       " 'não': 35,\n",
       " 'qual': 36,\n",
       " 'trabalhar': 37,\n",
       " 'sei': 38,\n",
       " 'e': 39,\n",
       " 'indicada': 40,\n",
       " 'faculdade': 41,\n",
       " 'algumas': 42,\n",
       " 'trocar.': 43,\n",
       " 'programação,': 44,\n",
       " 'desejo-te': 45,\n",
       " 'identifiquei': 46,\n",
       " 'desse': 47,\n",
       " 'pai': 48,\n",
       " 'diante': 49,\n",
       " '3': 50,\n",
       " 'paypal': 51,\n",
       " 'vista': 52,\n",
       " 'ajudar': 53,\n",
       " 'meus': 54,\n",
       " 'que': 55,\n",
       " 'equipe': 56,\n",
       " 'django': 57,\n",
       " 'distancia.': 58,\n",
       " 'inicialmente.': 59,\n",
       " 'ontem': 60,\n",
       " 'carreira': 61,\n",
       " 'necessidade': 62,\n",
       " 'posso': 63,\n",
       " 'travando': 64,\n",
       " '0': 65,\n",
       " 'absorver': 66,\n",
       " 'pf?': 67,\n",
       " 'conferir': 68,\n",
       " 'pagar': 69,\n",
       " 'html,': 70,\n",
       " 'os': 71,\n",
       " 'obs:': 72,\n",
       " 'tentar': 73,\n",
       " 'entender,': 74,\n",
       " 'errada.': 75,\n",
       " 'cuidar': 76,\n",
       " 'javascrip': 77,\n",
       " 'foi': 78,\n",
       " 'ver': 79,\n",
       " 'cadastrar,': 80,\n",
       " 'gráfica?': 81,\n",
       " 'email': 82,\n",
       " 'faço': 83,\n",
       " 'acesso': 84,\n",
       " 'conheço': 85,\n",
       " 'da': 86,\n",
       " 'ainda': 87,\n",
       " 'muita': 88,\n",
       " 'premium?': 89,\n",
       " 'cadastrar': 90,\n",
       " 'interface': 91,\n",
       " 'me': 92,\n",
       " '15': 93,\n",
       " 'computador': 94,\n",
       " 'premiun': 95,\n",
       " 'pagamento': 96,\n",
       " 'existe': 97,\n",
       " 'prática,': 98,\n",
       " 'cadastrei': 99,\n",
       " 'alguém': 100,\n",
       " 'certificados?': 101,\n",
       " 'fazer': 102,\n",
       " 'empresa?': 103,\n",
       " 'cinco': 104,\n",
       " 'nos': 105,\n",
       " 'linguagens': 106,\n",
       " 'por': 107,\n",
       " 'premium': 108,\n",
       " 'independência': 109,\n",
       " 'bancária?': 110,\n",
       " 'saber': 111,\n",
       " 'ferramenta': 112,\n",
       " 'mais': 113,\n",
       " 'meu': 114,\n",
       " 'curso!': 115,\n",
       " 'resposta': 116,\n",
       " 'o': 117,\n",
       " 'mudar': 118,\n",
       " 'envio': 119,\n",
       " 'certificado?': 120,\n",
       " 'exercícios,': 121,\n",
       " 'vezes': 122,\n",
       " 'ios,': 123,\n",
       " 'depoimento': 124,\n",
       " 'em': 125,\n",
       " 'moderador?': 126,\n",
       " 'a': 127,\n",
       " 'quais': 128,\n",
       " 'começar': 129,\n",
       " 'trilha': 130,\n",
       " 'nenhum': 131,\n",
       " 'mac?,': 132,\n",
       " 'moderador': 133,\n",
       " 'muito': 134,\n",
       " 'email,': 135,\n",
       " 'custa': 136,\n",
       " 'alura?': 137,\n",
       " 'porém': 138,\n",
       " 'pagamento,': 139,\n",
       " 'vídeo': 140,\n",
       " 'ou': 141,\n",
       " 'marketing': 142,\n",
       " 'parabéns!': 143,\n",
       " 'semana,': 144,\n",
       " 'sou': 145,\n",
       " 'fazer?': 146,\n",
       " 'com': 147,\n",
       " 'fórum?': 148,\n",
       " 'como': 149,\n",
       " 'programador?': 150,\n",
       " 'acessar': 151,\n",
       " 'programa,': 152,\n",
       " 'design': 153,\n",
       " 'no': 154,\n",
       " 'só': 155,\n",
       " 'correção': 156,\n",
       " 'python,': 157,\n",
       " 'exercícios': 158,\n",
       " 'alura!': 159,\n",
       " 'criar': 160,\n",
       " 'vontade': 161,\n",
       " 'cartão': 162,\n",
       " 'avisado,': 163,\n",
       " 'início': 164,\n",
       " 'expirar': 165,\n",
       " 'possar': 166,\n",
       " 'virtualização': 167,\n",
       " 'web?': 168,\n",
       " 'desconto?': 169,\n",
       " 'ser': 170,\n",
       " 'gosta': 171,\n",
       " 'site': 172,\n",
       " 'queria': 173,\n",
       " 'para': 174,\n",
       " 'navegador.': 175,\n",
       " 'senti': 176,\n",
       " 'ele': 177,\n",
       " 'deparei': 178,\n",
       " 'algum': 179,\n",
       " 'crescer': 180,\n",
       " 'maior': 181,\n",
       " 'vou': 182,\n",
       " 'estou': 183,\n",
       " 'realizar': 184,\n",
       " 'criarmos': 185,\n",
       " 'postar': 186,\n",
       " 'explicação,': 187,\n",
       " 'é': 188,\n",
       " 'as': 189,\n",
       " 'uma': 190,\n",
       " 'vocês': 191,\n",
       " 'plataforma': 192,\n",
       " 'maiúscula': 193,\n",
       " 'pretendo': 194,\n",
       " 'deseja': 195,\n",
       " 'comprei': 196,\n",
       " 'transferencia': 197,\n",
       " 'boa': 198,\n",
       " 'anos': 199,\n",
       " 'alura': 200,\n",
       " 'pouco': 201,\n",
       " 'completa.': 202,\n",
       " 'bom': 203,\n",
       " 'sentiu': 204,\n",
       " 'renovar': 205,\n",
       " 'desenvolvido': 206,\n",
       " 'está': 207,\n",
       " 'dia,': 208,\n",
       " 'possuir': 209,\n",
       " 'encontrei': 210,\n",
       " 'linguagens,': 211,\n",
       " 'termos': 212,\n",
       " 'antecipados,': 213,\n",
       " 'pais': 214,\n",
       " 'existir': 215,\n",
       " 'quer': 216,\n",
       " '14': 217,\n",
       " 'se': 218,\n",
       " 'imprimir': 219,\n",
       " 'parece': 220,\n",
       " 'laravel': 221,\n",
       " 'brasil???': 222,\n",
       " 'programação?': 223,\n",
       " 'filho': 224,\n",
       " 'deve': 225,\n",
       " 'terminei': 226,\n",
       " 'fazer,': 227,\n",
       " 'framework': 228,\n",
       " 'recomendam': 229,\n",
       " 'isso?': 230,\n",
       " 'agradeço!': 231,\n",
       " 'conteúdo?': 232,\n",
       " 'ambiente': 233,\n",
       " 'sum': 234,\n",
       " 'escolher': 235,\n",
       " 'mudar,': 236,\n",
       " 'eu,': 237,\n",
       " 'filho,': 238,\n",
       " 'favor?': 239,\n",
       " 'outras': 240,\n",
       " 'convidado': 241,\n",
       " 'fã': 242,\n",
       " 'favor': 243,\n",
       " 'cursos': 244,\n",
       " 'programar': 245,\n",
       " 'ajuda': 246,\n",
       " 'letra': 247,\n",
       " 'usada': 248,\n",
       " 'certificado': 249,\n",
       " 'realmente': 250,\n",
       " 'usei': 251,\n",
       " 'trabalho': 252,\n",
       " 'via': 253,\n",
       " 'fórmula': 254,\n",
       " 'compra': 255,\n",
       " 'novo,': 256,\n",
       " 'lidar': 257,\n",
       " 'curso': 258,\n",
       " 'onde': 259,\n",
       " 'dificuldade': 260,\n",
       " 'seguinte': 261,\n",
       " 'ganho': 262,\n",
       " 'designer': 263,\n",
       " 'aos': 264,\n",
       " 'novamente?': 265,\n",
       " 'desenvolvedor': 266,\n",
       " 'fica': 267,\n",
       " 'já,': 268,\n",
       " 'comprar': 269,\n",
       " 'eu': 270,\n",
       " 'digitação': 271,\n",
       " 'capaz': 272,\n",
       " 'valido': 273,\n",
       " 'aprender.': 274,\n",
       " 'noite,': 275,\n",
       " 'moderador,': 276,\n",
       " 'poderia': 277,\n",
       " 'achei': 278,\n",
       " 'indicam': 279,\n",
       " 'mim': 280,\n",
       " 'nosso': 281,\n",
       " 'pagamento?': 282,\n",
       " 'praticas': 283,\n",
       " 'na': 284,\n",
       " 'web': 285,\n",
       " 'usar': 286,\n",
       " 'do': 287,\n",
       " 'pode': 288,\n",
       " 'coluna': 289,\n",
       " 'todo': 290,\n",
       " 'perto': 291,\n",
       " 'dúvida': 292,\n",
       " 'mais.': 293,\n",
       " 'informação,': 294,\n",
       " 'ótimo': 295,\n",
       " 'ajudar?': 296,\n",
       " 'área': 297,\n",
       " 'java': 298,\n",
       " 'explicação?': 299,\n",
       " 'passos': 300,\n",
       " 'porem': 301,\n",
       " 'qualquer': 302,\n",
       " 'gostaria': 303,\n",
       " 'certificado,': 304,\n",
       " 'tornar': 305,\n",
       " 'esses': 306,\n",
       " 'trabalhando': 307,\n",
       " 'desde': 308,\n",
       " 'excel.': 309,\n",
       " 'melhor': 310,\n",
       " 'cobol,': 311,\n",
       " 'optar': 312,\n",
       " 'aplicações?': 313,\n",
       " 'havia': 314,\n",
       " 'enviar': 315,\n",
       " 'segundo': 316,\n",
       " 'player?': 317,\n",
       " 'são': 318,\n",
       " 'trocar': 319,\n",
       " 'moip?': 320,\n",
       " 'aqui': 321,\n",
       " 'além': 322,\n",
       " 'pesquisas': 323,\n",
       " 'vai': 324,\n",
       " 'antigo': 325,\n",
       " 'esse': 326,\n",
       " 'possui': 327,\n",
       " 'pyqt': 328,\n",
       " 'efetuar': 329,\n",
       " 'quanto': 330,\n",
       " 'aprender': 331,\n",
       " 'parte': 332,\n",
       " 'estudei': 333,\n",
       " 'emitem': 334,\n",
       " 'windows?': 335,\n",
       " 'ux,': 336,\n",
       " 'tenho': 337,\n",
       " 'plus,': 338,\n",
       " 'lógica?': 339,\n",
       " 'css': 340,\n",
       " 'realizados': 341,\n",
       " 'pois': 342,\n",
       " 'proximidade': 343,\n",
       " 'vocês.': 344,\n",
       " 'python': 345,\n",
       " 'pela': 346,\n",
       " 'caminho': 347,\n",
       " 'minha': 348,\n",
       " 'anos?': 349,\n",
       " 'exercício': 350,\n",
       " 'duvida': 351,\n",
       " 'pro': 352,\n",
       " 'forma': 353,\n",
       " 'quero': 354,\n",
       " 'já': 355,\n",
       " 'base': 356,\n",
       " 'mas': 357,\n",
       " 'antecipadamente': 358,\n",
       " 'um': 359,\n",
       " 'seria': 360,\n",
       " 'devem': 361,\n",
       " '1': 362,\n",
       " 'minutos.': 363}"
      ]
     },
     "execution_count": 43,
     "metadata": {},
     "output_type": "execute_result"
    }
   ],
   "source": [
    "tradutor"
   ]
  },
  {
   "cell_type": "markdown",
   "id": "83c818f1-660e-4698-8c14-dc36b170a051",
   "metadata": {},
   "source": [
    "* Logo, na hora de vetorizar o tezto, devo pegar as raízes das palavras contidas nele, já que o tradutor contém as raízes"
   ]
  },
  {
   "cell_type": "code",
   "execution_count": 44,
   "id": "cbbd58ea-9e68-44f5-9a88-60474ffe44a9",
   "metadata": {},
   "outputs": [],
   "source": [
    "def vetorizar_texto(texto, tradutor):\n",
    "    vetor = [0] * len(tradutor)\n",
    "    for palavra in texto:\n",
    "        if palavra in tradutor:\n",
    "            posicao = tradutor[palavra]\n",
    "            vetor[posicao] += 1\n",
    "\n",
    "    return vetor"
   ]
  },
  {
   "cell_type": "markdown",
   "id": "d97838ee-d828-4ece-af0c-c4d9c0893c49",
   "metadata": {},
   "source": [
    "* Vetorizando todos os textos do meu arquivo "
   ]
  },
  {
   "cell_type": "code",
   "execution_count": 31,
   "id": "95463fb5-3e78-4078-ad09-827d7ee15fb6",
   "metadata": {},
   "outputs": [],
   "source": [
    "vetoresDeTexto = [vetorizar_texto(texto, tradutor) for texto in textosQuebrados]"
   ]
  },
  {
   "cell_type": "code",
   "execution_count": 32,
   "id": "8c7db13e-3f13-4694-8cfe-66159faf8e90",
   "metadata": {},
   "outputs": [],
   "source": [
    "marcas = classificacoes['classificacao']\n",
    "\n",
    "X = vetoresDeTexto\n",
    "Y = marcas.tolist()"
   ]
  },
  {
   "cell_type": "code",
   "execution_count": 33,
   "id": "80fcde16-e4f2-4bc2-b7aa-e96c36d33d1e",
   "metadata": {},
   "outputs": [
    {
     "name": "stdout",
     "output_type": "stream",
     "text": [
      "34\n"
     ]
    }
   ],
   "source": [
    "porcentagem_de_treino = 0.8\n",
    "\n",
    "tamanho_de_treino = int(porcentagem_de_treino * len(Y))\n",
    "tamanho_de_validacao = len(Y) - tamanho_de_treino\n",
    "\n",
    "print(tamanho_de_treino)"
   ]
  },
  {
   "cell_type": "code",
   "execution_count": 34,
   "id": "4794538c-4e3a-4de6-a26b-aa484cc21620",
   "metadata": {},
   "outputs": [],
   "source": [
    "treino_dados = X[0:tamanho_de_treino]\n",
    "treino_marcacoes = Y[0:tamanho_de_treino]\n",
    "\n",
    "validacao_dados = X[tamanho_de_treino:]\n",
    "validacao_marcacoes = Y[tamanho_de_treino:]"
   ]
  },
  {
   "cell_type": "code",
   "execution_count": 35,
   "id": "9689f6d6-891a-4257-a2af-5722796a3a3e",
   "metadata": {},
   "outputs": [],
   "source": [
    "def fit_and_predict(nome, modelo, treino_dados, treino_marcacoes):\n",
    "    k = 10\n",
    "    scores = cross_val_score(modelo, treino_dados, treino_marcacoes, cv=k)\n",
    "    taxa_de_acerto = np.mean(scores)\n",
    "    msg = \"Taxa de acerto do {0}: {1}\".format(nome, taxa_de_acerto)\n",
    "    print(msg)\n",
    "    return taxa_de_acerto"
   ]
  },
  {
   "cell_type": "code",
   "execution_count": 36,
   "id": "d869b5ff-6328-4e50-8dd7-6b0416340d2f",
   "metadata": {},
   "outputs": [
    {
     "name": "stdout",
     "output_type": "stream",
     "text": [
      "Taxa de acerto do OneVsRest: 0.7166666666666667\n"
     ]
    }
   ],
   "source": [
    "from sklearn.multiclass import OneVsRestClassifier\n",
    "from sklearn.svm import LinearSVC\n",
    "\n",
    "resultados = {}\n",
    "\n",
    "modeloOneVsRest = OneVsRestClassifier(LinearSVC(random_state=0))\n",
    "resultadoOneVsRest = fit_and_predict(\"OneVsRest\", modeloOneVsRest, treino_dados, treino_marcacoes)\n",
    "resultados[resultadoOneVsRest] = modeloOneVsRest"
   ]
  },
  {
   "cell_type": "markdown",
   "id": "4186dcbf-2275-441a-9cdc-7d098373bab1",
   "metadata": {},
   "source": [
    "# -----------------------------------------Intro Pré Processamento-----------------------------------------\n",
    "\n",
    "    * Stop words\n",
    "    * Como remover as stop words do dicionário\n",
    "    * Como instalar o nltk e seus módulos\n",
    "    * Como extrair as raízes das palavras\n",
    "    * Como separar as palavras de uma frase com o tokenize\n",
    "    * Como remover palavras com pontuações do dicionário"
   ]
  },
  {
   "cell_type": "code",
   "execution_count": 46,
   "id": "f04ca238-02c4-4821-9297-6cb01f55c836",
   "metadata": {},
   "outputs": [],
   "source": [
    "import pandas as pd\n",
    "from collections import Counter\n",
    "import numpy as np\n",
    "from sklearn.model_selection import cross_val_score"
   ]
  },
  {
   "cell_type": "code",
   "execution_count": 49,
   "id": "77fee21d-13ac-48d5-adf6-b279fd164025",
   "metadata": {},
   "outputs": [],
   "source": [
    "import nltk\n",
    "#nltk.download('stopwords')\n",
    "#nltk.download('rslp') # \"removedor de sufixo da lingua portuguesa\"\n",
    "#nltk.download('punkt') "
   ]
  },
  {
   "cell_type": "markdown",
   "id": "f6f37eae-b007-48ec-82f6-4af2aa42d878",
   "metadata": {},
   "source": [
    "Auxílios do nltk usados:\n",
    "    * stopwords\n",
    "    * stemmer\n",
    "    * wordTokenizer"
   ]
  },
  {
   "cell_type": "code",
   "execution_count": 50,
   "id": "aafac654-6452-4891-a08d-f82539938dfe",
   "metadata": {},
   "outputs": [],
   "source": [
    "stopwords = nltk.corpus.stopwords.words('portuguese')\n",
    "stemmer = nltk.stem.RSLPStemmer() \n",
    "\n",
    "\n",
    "#frase = \"bora ali compra um pão? bora bora!\"\n",
    "#x = tokenizer = nltk.tokenize.word_tokenize(frase)\n",
    "#print(x)"
   ]
  },
  {
   "cell_type": "code",
   "execution_count": 51,
   "id": "811ce7a3-271b-4dcf-867f-48391d395afd",
   "metadata": {},
   "outputs": [],
   "source": [
    "classificacoes = pd.read_csv('emails.csv')\n",
    "textosPuros = classificacoes['email']\n",
    "#Recuperando textos em tokens e em minúsculo\n",
    "frases = textosPuros.str.lower()\n",
    "textosQuebrados = [nltk.tokenize.word_tokenize(frase) for frase in frases]"
   ]
  },
  {
   "cell_type": "code",
   "execution_count": 52,
   "id": "de6bb9b0-a017-4604-963b-375b66d9897a",
   "metadata": {},
   "outputs": [],
   "source": [
    "#dicionario"
   ]
  },
  {
   "cell_type": "markdown",
   "id": "931530f9-ed83-4e56-bbda-f0a3b0d31964",
   "metadata": {},
   "source": [
    "* Utilizando o stemmer para recupear raízes das palavras e colocar no dicionário"
   ]
  },
  {
   "cell_type": "code",
   "execution_count": 53,
   "id": "4ee15831-2b07-4f16-8ffb-1c4b6f0e22e6",
   "metadata": {},
   "outputs": [],
   "source": [
    "dicionario = set()\n",
    "for lista in textosQuebrados:\n",
    "    validas = [stemmer.stem(palavra) for palavra in lista if palavra not in stopwords and len(palavra) > 2]\n",
    "    dicionario.update(validas)"
   ]
  },
  {
   "cell_type": "code",
   "execution_count": 55,
   "id": "bf4ea398-3c84-4bba-80b8-6665d95c7814",
   "metadata": {},
   "outputs": [
    {
     "name": "stdout",
     "output_type": "stream",
     "text": [
      "total de palavras: 230\n",
      "{'imprim', 'bas', 'dia', 'digit', 'coloq', 'prát', 'capaz', 'pra', 'aplic', 'própri', 'depend', 'pass', 'antig', 'tod', 'di', 'hav', 'complet', 'plan', 'algum', 'post', 'comput', 'pert', 'ach', 'poss', 'vou', 'seguint', 'gráf', 'qu', 'mim', 'ont', 'premiun', 'muit', 'áre', 'outr', 'web', 'dev', 'pod', 'realiz', 'empr', 'comunidad', 'desenvolv', 'emit', 'certific', 'vers', 'alguém', 'expir', 'naveg', 'filh', 'sit', 'program', 'pal', 'trabalh', 'faç', 'vontad', 'alur', 'form', 'começ', 'gost', 'vist', 'vez', 'boa', 'olá', 'por', 'aqu', 'premium', 'bancár', 'fic', 'independ', 'possu', 'cinc', 'ótim', 'interfac', 'faz', 'bom', 'ganh', 'antecipad', 'io', 'dess', 'part', 'colun', 'ambi', 'segund', 'duvid', 'dúv', 'explic', 'depo', 'opt', 'sab', 'fórum', 'us', 'plataform', 'cri', 'pouc', 'desejo-t', 'err', 'quer', 'torn', 'sent', 'qual', 'window', 'trav', 'minut', 'desd', 'laravel', 'melhor', 'cadastr', 'faculdad', 'sei', 'troc', 'entend', 'cont', 'víde', 'mac', 'escolh', 'moder', 'cuid', 'moip', 'quant', 'term', 'parec', 'cancel', 'equip', 'framework', 'descont', 'curs', 'pai', 'exist', 'encontr', 'real', 'nom', 'ond', 'renov', 'inform', 'dificuldad', 'sum', 'nenhum', 'aul', 'qualqu', 'letr', 'iníci', 'além', 'acess', 'interess', 'jav', 'plu', 'termin', 'maiúscul', 'porém', 'envi', 'carr', 'vai', 'excel', 'confer', 'conheç', 'googl', 'tent', 'play', 'cresc', 'favor', 'efetu', 'html', 'payp', 'virtu', 'marketing', 'pesquis', 'ob', 'pyqt', 'estud', 'pag', 'distanc', 'agradeç', 'poi', 'cart', 'recomend', 'cobol', 'avis', 'control', 'desej', 'antecip', 'design', 'parabém', 'val', 'aprend', 'nov', 'djang', 'mai', 'caminh', 'indic', 'conteúd', 'via', 'compr', 'javascrip', 'seman', 'fórmul', 'sistem', 'ferrament', 'correç', 'use', 'cs', 'ver', 'identifiq', 'pret', 'lid', 'lingu', 'cust', 'ajud', 'python', 'transferenc', 'ano', 'email', 'lógic', 'noit', 'conhec', 'sobr', 'inic', 'necess', 'pro', 'brasil', 'absorv', 'ser', 'almej', 'exercíci', 'inter', 'trilh', 'proxim', 'convid', 'dep', 'respost', 'mud', 'aind'}\n"
     ]
    }
   ],
   "source": [
    "totalDePalavras = len(dicionario)\n",
    "print(f'total de palavras: {totalDePalavras}')\n",
    "print(dicionario)\n",
    "tuplas = zip(dicionario, range(totalDePalavras))\n",
    "tradutor = {palavra: indice for palavra, indice in tuplas}"
   ]
  },
  {
   "cell_type": "code",
   "execution_count": 56,
   "id": "73969599-e0e3-4dfe-b909-56c361c3da89",
   "metadata": {
    "collapsed": true,
    "jupyter": {
     "outputs_hidden": true
    },
    "tags": []
   },
   "outputs": [
    {
     "data": {
      "text/plain": [
       "{'imprim': 0,\n",
       " 'bas': 1,\n",
       " 'dia': 2,\n",
       " 'digit': 3,\n",
       " 'coloq': 4,\n",
       " 'prát': 5,\n",
       " 'capaz': 6,\n",
       " 'pra': 7,\n",
       " 'aplic': 8,\n",
       " 'própri': 9,\n",
       " 'depend': 10,\n",
       " 'pass': 11,\n",
       " 'antig': 12,\n",
       " 'tod': 13,\n",
       " 'di': 14,\n",
       " 'hav': 15,\n",
       " 'complet': 16,\n",
       " 'plan': 17,\n",
       " 'algum': 18,\n",
       " 'post': 19,\n",
       " 'comput': 20,\n",
       " 'pert': 21,\n",
       " 'ach': 22,\n",
       " 'poss': 23,\n",
       " 'vou': 24,\n",
       " 'seguint': 25,\n",
       " 'gráf': 26,\n",
       " 'qu': 27,\n",
       " 'mim': 28,\n",
       " 'ont': 29,\n",
       " 'premiun': 30,\n",
       " 'muit': 31,\n",
       " 'áre': 32,\n",
       " 'outr': 33,\n",
       " 'web': 34,\n",
       " 'dev': 35,\n",
       " 'pod': 36,\n",
       " 'realiz': 37,\n",
       " 'empr': 38,\n",
       " 'comunidad': 39,\n",
       " 'desenvolv': 40,\n",
       " 'emit': 41,\n",
       " 'certific': 42,\n",
       " 'vers': 43,\n",
       " 'alguém': 44,\n",
       " 'expir': 45,\n",
       " 'naveg': 46,\n",
       " 'filh': 47,\n",
       " 'sit': 48,\n",
       " 'program': 49,\n",
       " 'pal': 50,\n",
       " 'trabalh': 51,\n",
       " 'faç': 52,\n",
       " 'vontad': 53,\n",
       " 'alur': 54,\n",
       " 'form': 55,\n",
       " 'começ': 56,\n",
       " 'gost': 57,\n",
       " 'vist': 58,\n",
       " 'vez': 59,\n",
       " 'boa': 60,\n",
       " 'olá': 61,\n",
       " 'por': 62,\n",
       " 'aqu': 63,\n",
       " 'premium': 64,\n",
       " 'bancár': 65,\n",
       " 'fic': 66,\n",
       " 'independ': 67,\n",
       " 'possu': 68,\n",
       " 'cinc': 69,\n",
       " 'ótim': 70,\n",
       " 'interfac': 71,\n",
       " 'faz': 72,\n",
       " 'bom': 73,\n",
       " 'ganh': 74,\n",
       " 'antecipad': 75,\n",
       " 'io': 76,\n",
       " 'dess': 77,\n",
       " 'part': 78,\n",
       " 'colun': 79,\n",
       " 'ambi': 80,\n",
       " 'segund': 81,\n",
       " 'duvid': 82,\n",
       " 'dúv': 83,\n",
       " 'explic': 84,\n",
       " 'depo': 85,\n",
       " 'opt': 86,\n",
       " 'sab': 87,\n",
       " 'fórum': 88,\n",
       " 'us': 89,\n",
       " 'plataform': 90,\n",
       " 'cri': 91,\n",
       " 'pouc': 92,\n",
       " 'desejo-t': 93,\n",
       " 'err': 94,\n",
       " 'quer': 95,\n",
       " 'torn': 96,\n",
       " 'sent': 97,\n",
       " 'qual': 98,\n",
       " 'window': 99,\n",
       " 'trav': 100,\n",
       " 'minut': 101,\n",
       " 'desd': 102,\n",
       " 'laravel': 103,\n",
       " 'melhor': 104,\n",
       " 'cadastr': 105,\n",
       " 'faculdad': 106,\n",
       " 'sei': 107,\n",
       " 'troc': 108,\n",
       " 'entend': 109,\n",
       " 'cont': 110,\n",
       " 'víde': 111,\n",
       " 'mac': 112,\n",
       " 'escolh': 113,\n",
       " 'moder': 114,\n",
       " 'cuid': 115,\n",
       " 'moip': 116,\n",
       " 'quant': 117,\n",
       " 'term': 118,\n",
       " 'parec': 119,\n",
       " 'cancel': 120,\n",
       " 'equip': 121,\n",
       " 'framework': 122,\n",
       " 'descont': 123,\n",
       " 'curs': 124,\n",
       " 'pai': 125,\n",
       " 'exist': 126,\n",
       " 'encontr': 127,\n",
       " 'real': 128,\n",
       " 'nom': 129,\n",
       " 'ond': 130,\n",
       " 'renov': 131,\n",
       " 'inform': 132,\n",
       " 'dificuldad': 133,\n",
       " 'sum': 134,\n",
       " 'nenhum': 135,\n",
       " 'aul': 136,\n",
       " 'qualqu': 137,\n",
       " 'letr': 138,\n",
       " 'iníci': 139,\n",
       " 'além': 140,\n",
       " 'acess': 141,\n",
       " 'interess': 142,\n",
       " 'jav': 143,\n",
       " 'plu': 144,\n",
       " 'termin': 145,\n",
       " 'maiúscul': 146,\n",
       " 'porém': 147,\n",
       " 'envi': 148,\n",
       " 'carr': 149,\n",
       " 'vai': 150,\n",
       " 'excel': 151,\n",
       " 'confer': 152,\n",
       " 'conheç': 153,\n",
       " 'googl': 154,\n",
       " 'tent': 155,\n",
       " 'play': 156,\n",
       " 'cresc': 157,\n",
       " 'favor': 158,\n",
       " 'efetu': 159,\n",
       " 'html': 160,\n",
       " 'payp': 161,\n",
       " 'virtu': 162,\n",
       " 'marketing': 163,\n",
       " 'pesquis': 164,\n",
       " 'ob': 165,\n",
       " 'pyqt': 166,\n",
       " 'estud': 167,\n",
       " 'pag': 168,\n",
       " 'distanc': 169,\n",
       " 'agradeç': 170,\n",
       " 'poi': 171,\n",
       " 'cart': 172,\n",
       " 'recomend': 173,\n",
       " 'cobol': 174,\n",
       " 'avis': 175,\n",
       " 'control': 176,\n",
       " 'desej': 177,\n",
       " 'antecip': 178,\n",
       " 'design': 179,\n",
       " 'parabém': 180,\n",
       " 'val': 181,\n",
       " 'aprend': 182,\n",
       " 'nov': 183,\n",
       " 'djang': 184,\n",
       " 'mai': 185,\n",
       " 'caminh': 186,\n",
       " 'indic': 187,\n",
       " 'conteúd': 188,\n",
       " 'via': 189,\n",
       " 'compr': 190,\n",
       " 'javascrip': 191,\n",
       " 'seman': 192,\n",
       " 'fórmul': 193,\n",
       " 'sistem': 194,\n",
       " 'ferrament': 195,\n",
       " 'correç': 196,\n",
       " 'use': 197,\n",
       " 'cs': 198,\n",
       " 'ver': 199,\n",
       " 'identifiq': 200,\n",
       " 'pret': 201,\n",
       " 'lid': 202,\n",
       " 'lingu': 203,\n",
       " 'cust': 204,\n",
       " 'ajud': 205,\n",
       " 'python': 206,\n",
       " 'transferenc': 207,\n",
       " 'ano': 208,\n",
       " 'email': 209,\n",
       " 'lógic': 210,\n",
       " 'noit': 211,\n",
       " 'conhec': 212,\n",
       " 'sobr': 213,\n",
       " 'inic': 214,\n",
       " 'necess': 215,\n",
       " 'pro': 216,\n",
       " 'brasil': 217,\n",
       " 'absorv': 218,\n",
       " 'ser': 219,\n",
       " 'almej': 220,\n",
       " 'exercíci': 221,\n",
       " 'inter': 222,\n",
       " 'trilh': 223,\n",
       " 'proxim': 224,\n",
       " 'convid': 225,\n",
       " 'dep': 226,\n",
       " 'respost': 227,\n",
       " 'mud': 228,\n",
       " 'aind': 229}"
      ]
     },
     "execution_count": 56,
     "metadata": {},
     "output_type": "execute_result"
    }
   ],
   "source": [
    "tradutor"
   ]
  },
  {
   "cell_type": "markdown",
   "id": "b636f9cc-54da-4bcb-921f-432718501eb9",
   "metadata": {},
   "source": [
    "* Logo, na hora de vetorizar o tezto, devo pegar as raízes das palavras contidas nele, já que o tradutor contém as raízes"
   ]
  },
  {
   "cell_type": "code",
   "execution_count": 57,
   "id": "eae8d361-5af9-4fbc-9b2a-d011db3dcfb5",
   "metadata": {},
   "outputs": [],
   "source": [
    "def vetorizar_texto(texto, tradutor, stemmer):\n",
    "    vetor = [0] * len(tradutor)\n",
    "    for palavra in texto:\n",
    "        if len(palavra) > 0:\n",
    "            raiz = stemmer.stem(palavra)\n",
    "            if raiz in tradutor:\n",
    "                posicao = tradutor[raiz]\n",
    "                vetor[posicao] += 1\n",
    "    return vetor"
   ]
  },
  {
   "cell_type": "code",
   "execution_count": 58,
   "id": "253a0914-fd2f-4ef9-a2c5-e64f4e65b385",
   "metadata": {},
   "outputs": [],
   "source": [
    "vetoresDeTexto = [vetorizar_texto(texto, tradutor, stemmer) for texto in textosQuebrados]"
   ]
  },
  {
   "cell_type": "code",
   "execution_count": 59,
   "id": "098ef763-61d8-4bef-84a4-04be4a2e927d",
   "metadata": {},
   "outputs": [],
   "source": [
    "marcas = classificacoes['classificacao']\n",
    "\n",
    "X = vetoresDeTexto\n",
    "Y = marcas"
   ]
  },
  {
   "cell_type": "code",
   "execution_count": 60,
   "id": "672f91a7-40b3-4977-809f-0c51fe1d4ef6",
   "metadata": {},
   "outputs": [
    {
     "name": "stdout",
     "output_type": "stream",
     "text": [
      "34\n"
     ]
    }
   ],
   "source": [
    "porcentagem_de_treino = 0.8\n",
    "\n",
    "tamanho_de_treino = int(porcentagem_de_treino * len(Y))\n",
    "tamanho_de_validacao = len(Y) - tamanho_de_treino\n",
    "\n",
    "print(tamanho_de_treino)"
   ]
  },
  {
   "cell_type": "code",
   "execution_count": 61,
   "id": "1336dcd8-fad1-4eee-92eb-83e3dd3d444f",
   "metadata": {},
   "outputs": [],
   "source": [
    "treino_dados = X[0:tamanho_de_treino]\n",
    "treino_marcacoes = Y[0:tamanho_de_treino]\n",
    "\n",
    "validacao_dados = X[tamanho_de_treino:]\n",
    "validacao_marcacoes = Y[tamanho_de_treino:]"
   ]
  },
  {
   "cell_type": "code",
   "execution_count": 62,
   "id": "cbbf350e-4658-4cb2-b12c-bb4d9a847466",
   "metadata": {},
   "outputs": [],
   "source": [
    "def fit_and_predict(nome, modelo, treino_dados, treino_marcacoes):\n",
    "    k = 10\n",
    "    scores = cross_val_score(modelo, treino_dados, treino_marcacoes, cv=k)\n",
    "    taxa_de_acerto = np.mean(scores)\n",
    "    msg = \"Taxa de acerto do {0}: {1}\".format(nome, taxa_de_acerto)\n",
    "    print(msg)\n",
    "    return taxa_de_acerto"
   ]
  },
  {
   "cell_type": "code",
   "execution_count": 63,
   "id": "555c3489-9e5d-4408-9cba-5ae1aed1ec17",
   "metadata": {},
   "outputs": [],
   "source": [
    "def teste_real(modelo, validacao_dados, validacao_marcacoes):\n",
    "    resultado = modelo.predict(validacao_dados)\n",
    "\n",
    "    acertos = resultado == validacao_marcacoes\n",
    "\n",
    "    total_de_acertos = sum(acertos)\n",
    "    total_de_elementos = len(validacao_marcacoes)\n",
    "\n",
    "    taxa_de_acerto = 100.0 * total_de_acertos / total_de_elementos\n",
    "\n",
    "    msg = \"Taxa de acerto do vencedor entre os dois algoritmos no mundo real: {0}\".format(taxa_de_acerto)\n",
    "    print(msg)"
   ]
  },
  {
   "cell_type": "code",
   "execution_count": 64,
   "id": "03b82108-f31f-4653-a312-46377dbd43dd",
   "metadata": {},
   "outputs": [
    {
     "name": "stdout",
     "output_type": "stream",
     "text": [
      "Taxa de acerto do OneVsRest: 0.7416666666666666\n",
      "Taxa de acerto do OneVsOne: 0.7416666666666667\n",
      "Taxa de acerto do MultinomialNB: 0.8\n",
      "Taxa de acerto do AdaBoostClassifier: 0.6166666666666666\n",
      "{0.7416666666666666: OneVsRestClassifier(estimator=LinearSVC(random_state=0)), 0.7416666666666667: OneVsOneClassifier(estimator=LinearSVC(random_state=0)), 0.8: MultinomialNB(), 0.6166666666666666: AdaBoostClassifier(random_state=0)}\n",
      "Vencerdor: \n",
      "MultinomialNB()\n",
      "Taxa de acerto do vencedor entre os dois algoritmos no mundo real: 77.77777777777777\n",
      "Taxa de acerto base: 44.444444\n",
      "Total de teste: 9\n"
     ]
    }
   ],
   "source": [
    "resultados = {}\n",
    "\n",
    "from sklearn.multiclass import OneVsRestClassifier\n",
    "from sklearn.svm import LinearSVC\n",
    "\n",
    "modeloOneVsRest = OneVsRestClassifier(LinearSVC(random_state=0))\n",
    "resultadoOneVsRest = fit_and_predict(\"OneVsRest\", modeloOneVsRest, treino_dados, treino_marcacoes)\n",
    "resultados[resultadoOneVsRest] = modeloOneVsRest\n",
    "\n",
    "\n",
    "from sklearn.multiclass import OneVsOneClassifier\n",
    "\n",
    "modeloOneVsOne = OneVsOneClassifier(LinearSVC(random_state=0))\n",
    "resultadoOneVsOne = fit_and_predict(\"OneVsOne\", modeloOneVsOne, treino_dados, treino_marcacoes)\n",
    "resultados[resultadoOneVsOne] = modeloOneVsOne\n",
    "\n",
    "from sklearn.naive_bayes import MultinomialNB\n",
    "\n",
    "modeloMultinomial = MultinomialNB()\n",
    "resultadoMultinomial = fit_and_predict(\"MultinomialNB\", modeloMultinomial, treino_dados, treino_marcacoes)\n",
    "resultados[resultadoMultinomial] = modeloMultinomial\n",
    "\n",
    "from sklearn.ensemble import AdaBoostClassifier\n",
    "\n",
    "modeloAdaBoost = AdaBoostClassifier(random_state=0)\n",
    "resultadoAdaBoost = fit_and_predict(\"AdaBoostClassifier\", modeloAdaBoost, treino_dados, treino_marcacoes)\n",
    "resultados[resultadoAdaBoost] = modeloAdaBoost\n",
    "\n",
    "\n",
    "print(resultados)\n",
    "\n",
    "maximo = max(resultados)\n",
    "vencedor = resultados[maximo]\n",
    "\n",
    "print(\"Vencerdor: \")\n",
    "print(vencedor)\n",
    "\n",
    "vencedor.fit(treino_dados, treino_marcacoes)\n",
    "\n",
    "teste_real(vencedor, validacao_dados, validacao_marcacoes)\n",
    "\n",
    "acerto_base = max(Counter(validacao_marcacoes).values())\n",
    "taxa_de_acerto_base = 100.0 * acerto_base / len(validacao_marcacoes)\n",
    "print(\"Taxa de acerto base: %f\" % taxa_de_acerto_base)\n",
    "\n",
    "total_de_elementos = len(validacao_dados)\n",
    "print(\"Total de teste: %d\" % total_de_elementos)"
   ]
  },
  {
   "cell_type": "code",
   "execution_count": null,
   "id": "bf9b3c94-e07a-42d4-ae35-f622ce9fbbea",
   "metadata": {},
   "outputs": [],
   "source": []
  },
  {
   "cell_type": "code",
   "execution_count": null,
   "id": "264a6268-334b-4d5b-9fb1-a9fbbcc6dee3",
   "metadata": {},
   "outputs": [],
   "source": []
  },
  {
   "cell_type": "code",
   "execution_count": null,
   "id": "c52ece80-b7e1-41d2-b491-adc116e8f32e",
   "metadata": {},
   "outputs": [],
   "source": []
  }
 ],
 "metadata": {
  "kernelspec": {
   "display_name": "Python 3",
   "language": "python",
   "name": "python3"
  },
  "language_info": {
   "codemirror_mode": {
    "name": "ipython",
    "version": 3
   },
   "file_extension": ".py",
   "mimetype": "text/x-python",
   "name": "python",
   "nbconvert_exporter": "python",
   "pygments_lexer": "ipython3",
   "version": "3.8.10"
  }
 },
 "nbformat": 4,
 "nbformat_minor": 5
}
