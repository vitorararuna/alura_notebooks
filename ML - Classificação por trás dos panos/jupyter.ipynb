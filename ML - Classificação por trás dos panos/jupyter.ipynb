{
 "cells": [
  {
   "cell_type": "markdown",
   "id": "84abaf65-de4c-42c4-918b-17931ff6c8f0",
   "metadata": {},
   "source": [
    "# <font color=green> Machine Learning: Classificação por trás dos panos\n",
    "---"
   ]
  },
  {
   "cell_type": "markdown",
   "id": "5fab25db-cd84-4dac-9346-359c3ba26cda",
   "metadata": {},
   "source": [
    "# ---------------------------------------------------CLASSIFICANDO DADOS---------------------------------------------------\n",
    "\n",
    "    * A classificação de elementos entre 1 e 0\n",
    "    * Como representar os dados no código\n",
    "    * Como implementar o algoritmo Multinomial\n",
    "    * Como prever elementos misteriosos\n",
    "    * Como calcular a taxa de acerto"
   ]
  },
  {
   "cell_type": "code",
   "execution_count": 1,
   "id": "e925e10f-cfbf-4fe7-980e-c6395814dc3a",
   "metadata": {},
   "outputs": [],
   "source": [
    "from sklearn.naive_bayes import MultinomialNB"
   ]
  },
  {
   "cell_type": "markdown",
   "id": "364615e3-7c6f-4868-8890-29aa7ea87aca",
   "metadata": {},
   "source": [
    "Gordin, Perna Curta, Faz \"auau\""
   ]
  },
  {
   "cell_type": "code",
   "execution_count": 2,
   "id": "caba66de-9d2a-48d5-a5d1-36d559278bb0",
   "metadata": {},
   "outputs": [],
   "source": [
    "porco1 =    [1, 1, 0]\n",
    "porco2 =    [1, 1, 0]\n",
    "porco3 =    [1, 1, 0]\n",
    "cachorro4 = [1, 1, 1]\n",
    "cachorro5 = [0, 1, 1]\n",
    "cachorro6 = [0, 1, 1]"
   ]
  },
  {
   "cell_type": "code",
   "execution_count": 3,
   "id": "9553cae0-b15e-45b7-a5de-d35c153f126e",
   "metadata": {},
   "outputs": [],
   "source": [
    "dados = [porco1, porco2, porco3, cachorro4, cachorro5, cachorro6]\n",
    "marcacoes = [1, 1, 1, -1, -1, -1]"
   ]
  },
  {
   "cell_type": "code",
   "execution_count": 4,
   "id": "3d7a57d4-086d-458e-ad93-2a1c494e49e6",
   "metadata": {},
   "outputs": [],
   "source": [
    "misterioso1 = [1, 1, 1]\n",
    "misterioso2 = [1, 0, 0]\n",
    "misterioso3 = [0, 0, 1]"
   ]
  },
  {
   "cell_type": "code",
   "execution_count": 5,
   "id": "e834e8a7-5a88-4ee4-b420-499b258ad1d2",
   "metadata": {},
   "outputs": [],
   "source": [
    "#Agora recolho meus DADOS (docs) que desejo treinar e suas MARCAÇÕES (classes)\n",
    "teste = [misterioso1, misterioso2, misterioso3]\n",
    "marcacoes_teste = [-1, 1, -1]"
   ]
  },
  {
   "cell_type": "markdown",
   "id": "d517dabb-3912-4905-ad38-ef7965de57dd",
   "metadata": {},
   "source": [
    "Modelo utilizado: MultinomialNBa\n",
    "FIT: faz o modelo se adequar/treinar à essas informações (dados e marcações)"
   ]
  },
  {
   "cell_type": "code",
   "execution_count": 6,
   "id": "f22a6265-ddd7-4bfb-89b5-05cfd16c5ca2",
   "metadata": {},
   "outputs": [
    {
     "name": "stdout",
     "output_type": "stream",
     "text": [
      "[-1  1 -1]\n"
     ]
    }
   ],
   "source": [
    "modelo = MultinomialNB()\n",
    "modelo.fit(dados, marcacoes)\n",
    "resultado = modelo.predict(teste)\n",
    "print(resultado)"
   ]
  },
  {
   "cell_type": "markdown",
   "id": "86f3f259-066f-49c2-bf5f-712a401f0e42",
   "metadata": {},
   "source": [
    "Resgatando taxa de acerto. Nesse caso acertou tudo (0,0,0)"
   ]
  },
  {
   "cell_type": "code",
   "execution_count": 7,
   "id": "8520814f-6ab1-4881-876f-3bc9525d53b1",
   "metadata": {},
   "outputs": [
    {
     "name": "stdout",
     "output_type": "stream",
     "text": [
      "[0 0 0]\n"
     ]
    }
   ],
   "source": [
    "diferencas = resultado - marcacoes_teste\n",
    "print(diferencas)"
   ]
  },
  {
   "cell_type": "code",
   "execution_count": 8,
   "id": "c149e62b-ef4f-4802-b9f7-4a103d8de83b",
   "metadata": {},
   "outputs": [
    {
     "name": "stdout",
     "output_type": "stream",
     "text": [
      "[0, 0, 0]\n"
     ]
    }
   ],
   "source": [
    "acertos = [d for d in diferencas if d == 0]\n",
    "print(acertos)"
   ]
  },
  {
   "cell_type": "code",
   "execution_count": 9,
   "id": "c2074021-547a-4f86-95ac-1854e762caf3",
   "metadata": {},
   "outputs": [
    {
     "name": "stdout",
     "output_type": "stream",
     "text": [
      "100.0\n"
     ]
    }
   ],
   "source": [
    "total_acertos = len(acertos)\n",
    "total_elementos = len(teste)\n",
    "taxa_acerto = 100.0 * (total_acertos / total_elementos)\n",
    "print(taxa_acerto)"
   ]
  },
  {
   "cell_type": "markdown",
   "id": "9a0b5a05-8c2e-4339-81ab-7f70feeff525",
   "metadata": {},
   "source": [
    "# -------------------------------------------------CLASSIFICANDO E VALIDANDO-------------------------------------------------\n",
    "\n",
    "    * Importamos e verificamos os dados de um arquivo CSV\n",
    "    * Utilizamos o algoritmo MultinomialNB\n",
    "    * Obtemos a taxa de acerto\n",
    "    * Dividimos os registros, metade para treinar o nosso algoritmo e a outra metade para testá-lo"
   ]
  },
  {
   "cell_type": "code",
   "execution_count": 10,
   "id": "f23f6f15-e7c1-4aa7-af51-716a1abb1039",
   "metadata": {},
   "outputs": [],
   "source": [
    "#FUNÇÃO PARA LER ARQ CSV\n",
    "import csv\n",
    "\n",
    "def carregar_dados():\n",
    "    X = [] #dados\n",
    "    Y = [] #marcações\n",
    "\n",
    "    arquivo = open('acesso.csv', 'r')  #Carregar arquivo \n",
    "    leitor = csv.reader(arquivo)       #Ler arquivo (linha a linha)\n",
    "    next(leitor)                       #Joga fora a primeira linha\n",
    "\n",
    "    for home,como_funciona,contato,comprou in leitor:\n",
    "        dado = [int(home),int(como_funciona),int(contato)]\n",
    "        X.append(dado)\n",
    "        Y.append(int(comprou))\n",
    "    \n",
    "    return X, Y"
   ]
  },
  {
   "cell_type": "code",
   "execution_count": 11,
   "id": "1d8de9d0-4af7-4b2a-ad87-60b897e49b43",
   "metadata": {},
   "outputs": [],
   "source": [
    "#CARREGANDO DADOS\n",
    "X, Y = carregar_dados()"
   ]
  },
  {
   "cell_type": "code",
   "execution_count": 12,
   "id": "8a5a537f-dc87-4609-acde-f3b598eaf533",
   "metadata": {},
   "outputs": [
    {
     "data": {
      "text/plain": [
       "MultinomialNB()"
      ]
     },
     "execution_count": 12,
     "metadata": {},
     "output_type": "execute_result"
    }
   ],
   "source": [
    "from sklearn.naive_bayes import MultinomialNB\n",
    "modelo = MultinomialNB()\n",
    "modelo.fit(X,Y)"
   ]
  },
  {
   "cell_type": "code",
   "execution_count": 13,
   "id": "3c7302da-92f6-486e-9514-6359625ecceb",
   "metadata": {},
   "outputs": [],
   "source": [
    "#Aqui estou tetado predizer com os dados que já tinham sido passados pelo fit, logo, espera-se uma taxa de acerto alta\n",
    "resultado = modelo.predict(X) \n",
    "diferenca = resultado - Y"
   ]
  },
  {
   "cell_type": "code",
   "execution_count": 14,
   "id": "55856f99-0610-4b65-b8e9-5d916141c67d",
   "metadata": {},
   "outputs": [],
   "source": [
    "acertos = [d for d in diferenca if d == 0]\n",
    "total_acertos = len(acertos)\n",
    "total_elementos = len(X)\n",
    "taxa_acerto = 100.0 * (total_acertos / total_elementos)"
   ]
  },
  {
   "cell_type": "code",
   "execution_count": 15,
   "id": "4bc03150-0705-400a-9ec3-d82d3e3c85b0",
   "metadata": {},
   "outputs": [
    {
     "name": "stdout",
     "output_type": "stream",
     "text": [
      "93.93939393939394\n",
      "99\n"
     ]
    }
   ],
   "source": [
    "print(taxa_acerto)\n",
    "print(total_elementos)"
   ]
  },
  {
   "cell_type": "code",
   "execution_count": 16,
   "id": "0fe64617-0735-447f-a11b-fbab62ee7271",
   "metadata": {},
   "outputs": [],
   "source": [
    "#Agora vou separar uma porcentagem de dados para treinar e outra para testar # \n",
    "treino_dados = X[:90]\n",
    "treino_marcacoes = Y[:90]\n",
    "\n",
    "teste_dados = X[-9:]\n",
    "teste_marcacoes = Y[-9:]"
   ]
  },
  {
   "cell_type": "code",
   "execution_count": 17,
   "id": "5a9cef13-e30d-40c1-adaf-f9bc8b170666",
   "metadata": {},
   "outputs": [
    {
     "name": "stdout",
     "output_type": "stream",
     "text": [
      "88.88888888888889\n",
      "9\n"
     ]
    }
   ],
   "source": [
    "modelo = MultinomialNB()\n",
    "modelo.fit(treino_dados,treino_marcacoes)\n",
    "\n",
    "resultado = modelo.predict(teste_dados) \n",
    "diferenca = resultado - teste_marcacoes\n",
    "\n",
    "acertos = [d for d in diferenca if d == 0]\n",
    "total_acertos = len(acertos)\n",
    "total_elementos = len(teste_dados)\n",
    "taxa_acerto = 100.0 * (total_acertos / total_elementos)\n",
    "\n",
    "print(taxa_acerto)\n",
    "print(total_elementos)"
   ]
  },
  {
   "cell_type": "markdown",
   "id": "65f5698e-dc14-4675-ae4f-454535666600",
   "metadata": {},
   "source": [
    "# ---------------------------------------CLASSIFICANDO VARIÁVEIS CATEGÓRICAS---------------------------------------\n",
    "\n",
    "    * Variáveis categóricas\n",
    "    * Classificação de variáveis categóricas\n",
    "    * Como exportar um arquivo de dados CSV\n",
    "    * Como ler o CSV e classificar as buscas\n",
    "    * Como traduzir as categorias com pandas\n",
    "    * Como pegar os dummies e arrays do data frame\n",
    "    * Como utilizar o algoritmo de classificação com os novos dados"
   ]
  },
  {
   "cell_type": "code",
   "execution_count": 20,
   "id": "df04916f-62d3-4de2-99e7-d3153106b4ca",
   "metadata": {},
   "outputs": [],
   "source": [
    "import pandas as pd\n",
    "from sklearn.naive_bayes import MultinomialNB"
   ]
  },
  {
   "cell_type": "code",
   "execution_count": 22,
   "id": "a9cc8546-e947-423b-8e07-bbe754244d0c",
   "metadata": {},
   "outputs": [],
   "source": [
    "dados = pd.read_csv('categoricas.csv')"
   ]
  },
  {
   "cell_type": "markdown",
   "id": "d2d9efa4-cd9c-4a7b-b6cb-7ed7b518758d",
   "metadata": {},
   "source": [
    "* Ao analisarmos as variáveis desse CSV, percebe-se que a \"BUSCA\" é uma variável categórica e não apenas um valor binário\n",
    "* Com a função \"get_dummies\" , transformamos uma variável categórica em diversas categorias de acordo com a quantidade de dados distintos\n",
    "    * exemplo = pd.get_dummies(dados)"
   ]
  },
  {
   "cell_type": "code",
   "execution_count": 23,
   "id": "d9e78ba1-5c7a-49d0-8985-e30899149387",
   "metadata": {},
   "outputs": [],
   "source": [
    "X_df = dados[['home', 'busca', 'logado']]\n",
    "Y_df = dados['comprou']"
   ]
  },
  {
   "cell_type": "code",
   "execution_count": 24,
   "id": "8d647200-7f6a-41a5-9472-005fae8ed6f0",
   "metadata": {},
   "outputs": [
    {
     "data": {
      "text/html": [
       "<div>\n",
       "<style scoped>\n",
       "    .dataframe tbody tr th:only-of-type {\n",
       "        vertical-align: middle;\n",
       "    }\n",
       "\n",
       "    .dataframe tbody tr th {\n",
       "        vertical-align: top;\n",
       "    }\n",
       "\n",
       "    .dataframe thead th {\n",
       "        text-align: right;\n",
       "    }\n",
       "</style>\n",
       "<table border=\"1\" class=\"dataframe\">\n",
       "  <thead>\n",
       "    <tr style=\"text-align: right;\">\n",
       "      <th></th>\n",
       "      <th>home</th>\n",
       "      <th>busca</th>\n",
       "      <th>logado</th>\n",
       "    </tr>\n",
       "  </thead>\n",
       "  <tbody>\n",
       "    <tr>\n",
       "      <th>0</th>\n",
       "      <td>0</td>\n",
       "      <td>algoritmos</td>\n",
       "      <td>1</td>\n",
       "    </tr>\n",
       "    <tr>\n",
       "      <th>1</th>\n",
       "      <td>0</td>\n",
       "      <td>java</td>\n",
       "      <td>0</td>\n",
       "    </tr>\n",
       "    <tr>\n",
       "      <th>2</th>\n",
       "      <td>1</td>\n",
       "      <td>algoritmos</td>\n",
       "      <td>0</td>\n",
       "    </tr>\n",
       "    <tr>\n",
       "      <th>3</th>\n",
       "      <td>1</td>\n",
       "      <td>ruby</td>\n",
       "      <td>1</td>\n",
       "    </tr>\n",
       "    <tr>\n",
       "      <th>4</th>\n",
       "      <td>1</td>\n",
       "      <td>ruby</td>\n",
       "      <td>0</td>\n",
       "    </tr>\n",
       "    <tr>\n",
       "      <th>...</th>\n",
       "      <td>...</td>\n",
       "      <td>...</td>\n",
       "      <td>...</td>\n",
       "    </tr>\n",
       "    <tr>\n",
       "      <th>995</th>\n",
       "      <td>0</td>\n",
       "      <td>ruby</td>\n",
       "      <td>0</td>\n",
       "    </tr>\n",
       "    <tr>\n",
       "      <th>996</th>\n",
       "      <td>0</td>\n",
       "      <td>ruby</td>\n",
       "      <td>0</td>\n",
       "    </tr>\n",
       "    <tr>\n",
       "      <th>997</th>\n",
       "      <td>0</td>\n",
       "      <td>java</td>\n",
       "      <td>1</td>\n",
       "    </tr>\n",
       "    <tr>\n",
       "      <th>998</th>\n",
       "      <td>1</td>\n",
       "      <td>algoritmos</td>\n",
       "      <td>0</td>\n",
       "    </tr>\n",
       "    <tr>\n",
       "      <th>999</th>\n",
       "      <td>0</td>\n",
       "      <td>ruby</td>\n",
       "      <td>1</td>\n",
       "    </tr>\n",
       "  </tbody>\n",
       "</table>\n",
       "<p>1000 rows × 3 columns</p>\n",
       "</div>"
      ],
      "text/plain": [
       "     home       busca  logado\n",
       "0       0  algoritmos       1\n",
       "1       0        java       0\n",
       "2       1  algoritmos       0\n",
       "3       1        ruby       1\n",
       "4       1        ruby       0\n",
       "..    ...         ...     ...\n",
       "995     0        ruby       0\n",
       "996     0        ruby       0\n",
       "997     0        java       1\n",
       "998     1  algoritmos       0\n",
       "999     0        ruby       1\n",
       "\n",
       "[1000 rows x 3 columns]"
      ]
     },
     "execution_count": 24,
     "metadata": {},
     "output_type": "execute_result"
    }
   ],
   "source": [
    "X_df"
   ]
  },
  {
   "cell_type": "code",
   "execution_count": 25,
   "id": "42d7caf1-8c48-47e7-952e-fee91fc3c760",
   "metadata": {},
   "outputs": [],
   "source": [
    "x_dummies_df = pd.get_dummies(X_df)\n",
    "y_dummies_df = (Y_df)"
   ]
  },
  {
   "cell_type": "code",
   "execution_count": 26,
   "id": "64aa6597-bf5b-4381-b9cc-0f3830688c3a",
   "metadata": {},
   "outputs": [
    {
     "data": {
      "text/html": [
       "<div>\n",
       "<style scoped>\n",
       "    .dataframe tbody tr th:only-of-type {\n",
       "        vertical-align: middle;\n",
       "    }\n",
       "\n",
       "    .dataframe tbody tr th {\n",
       "        vertical-align: top;\n",
       "    }\n",
       "\n",
       "    .dataframe thead th {\n",
       "        text-align: right;\n",
       "    }\n",
       "</style>\n",
       "<table border=\"1\" class=\"dataframe\">\n",
       "  <thead>\n",
       "    <tr style=\"text-align: right;\">\n",
       "      <th></th>\n",
       "      <th>home</th>\n",
       "      <th>logado</th>\n",
       "      <th>busca_algoritmos</th>\n",
       "      <th>busca_java</th>\n",
       "      <th>busca_ruby</th>\n",
       "    </tr>\n",
       "  </thead>\n",
       "  <tbody>\n",
       "    <tr>\n",
       "      <th>0</th>\n",
       "      <td>0</td>\n",
       "      <td>1</td>\n",
       "      <td>1</td>\n",
       "      <td>0</td>\n",
       "      <td>0</td>\n",
       "    </tr>\n",
       "    <tr>\n",
       "      <th>1</th>\n",
       "      <td>0</td>\n",
       "      <td>0</td>\n",
       "      <td>0</td>\n",
       "      <td>1</td>\n",
       "      <td>0</td>\n",
       "    </tr>\n",
       "    <tr>\n",
       "      <th>2</th>\n",
       "      <td>1</td>\n",
       "      <td>0</td>\n",
       "      <td>1</td>\n",
       "      <td>0</td>\n",
       "      <td>0</td>\n",
       "    </tr>\n",
       "    <tr>\n",
       "      <th>3</th>\n",
       "      <td>1</td>\n",
       "      <td>1</td>\n",
       "      <td>0</td>\n",
       "      <td>0</td>\n",
       "      <td>1</td>\n",
       "    </tr>\n",
       "    <tr>\n",
       "      <th>4</th>\n",
       "      <td>1</td>\n",
       "      <td>0</td>\n",
       "      <td>0</td>\n",
       "      <td>0</td>\n",
       "      <td>1</td>\n",
       "    </tr>\n",
       "    <tr>\n",
       "      <th>...</th>\n",
       "      <td>...</td>\n",
       "      <td>...</td>\n",
       "      <td>...</td>\n",
       "      <td>...</td>\n",
       "      <td>...</td>\n",
       "    </tr>\n",
       "    <tr>\n",
       "      <th>995</th>\n",
       "      <td>0</td>\n",
       "      <td>0</td>\n",
       "      <td>0</td>\n",
       "      <td>0</td>\n",
       "      <td>1</td>\n",
       "    </tr>\n",
       "    <tr>\n",
       "      <th>996</th>\n",
       "      <td>0</td>\n",
       "      <td>0</td>\n",
       "      <td>0</td>\n",
       "      <td>0</td>\n",
       "      <td>1</td>\n",
       "    </tr>\n",
       "    <tr>\n",
       "      <th>997</th>\n",
       "      <td>0</td>\n",
       "      <td>1</td>\n",
       "      <td>0</td>\n",
       "      <td>1</td>\n",
       "      <td>0</td>\n",
       "    </tr>\n",
       "    <tr>\n",
       "      <th>998</th>\n",
       "      <td>1</td>\n",
       "      <td>0</td>\n",
       "      <td>1</td>\n",
       "      <td>0</td>\n",
       "      <td>0</td>\n",
       "    </tr>\n",
       "    <tr>\n",
       "      <th>999</th>\n",
       "      <td>0</td>\n",
       "      <td>1</td>\n",
       "      <td>0</td>\n",
       "      <td>0</td>\n",
       "      <td>1</td>\n",
       "    </tr>\n",
       "  </tbody>\n",
       "</table>\n",
       "<p>1000 rows × 5 columns</p>\n",
       "</div>"
      ],
      "text/plain": [
       "     home  logado  busca_algoritmos  busca_java  busca_ruby\n",
       "0       0       1                 1           0           0\n",
       "1       0       0                 0           1           0\n",
       "2       1       0                 1           0           0\n",
       "3       1       1                 0           0           1\n",
       "4       1       0                 0           0           1\n",
       "..    ...     ...               ...         ...         ...\n",
       "995     0       0                 0           0           1\n",
       "996     0       0                 0           0           1\n",
       "997     0       1                 0           1           0\n",
       "998     1       0                 1           0           0\n",
       "999     0       1                 0           0           1\n",
       "\n",
       "[1000 rows x 5 columns]"
      ]
     },
     "execution_count": 26,
     "metadata": {},
     "output_type": "execute_result"
    }
   ],
   "source": [
    "x_dummies_df"
   ]
  },
  {
   "cell_type": "code",
   "execution_count": 27,
   "id": "9beeb785-6070-4eb0-8ea5-c6a3138c8efc",
   "metadata": {},
   "outputs": [],
   "source": [
    "# Passando DF para array\n",
    "X = x_dummies_df.values\n",
    "Y = y_dummies_df.values"
   ]
  },
  {
   "cell_type": "code",
   "execution_count": 28,
   "id": "4f11b89b-a902-4025-8554-d1e7a228030f",
   "metadata": {},
   "outputs": [],
   "source": [
    "tamanho_treino = int(0.9 * len(Y))\n",
    "tamanho_teste = len(Y) - tamanho_treino"
   ]
  },
  {
   "cell_type": "code",
   "execution_count": 29,
   "id": "36f63e91-4d9e-4544-9681-1a6fd8a972d6",
   "metadata": {},
   "outputs": [],
   "source": [
    "treino_dados = X[:tamanho_treino]\n",
    "treino_marcacoes = Y[:tamanho_treino]\n",
    "teste_dados = X[-tamanho_teste:]\n",
    "teste_marcacoes = Y[-tamanho_teste:]"
   ]
  },
  {
   "cell_type": "code",
   "execution_count": 30,
   "id": "424eae22-0ee8-4292-a0cf-1b20e767596c",
   "metadata": {},
   "outputs": [],
   "source": [
    "modelo = MultinomialNB()\n",
    "modelo.fit(treino_dados, treino_marcacoes)\n",
    "\n",
    "resultado = modelo.predict(teste_dados)\n",
    "diferencas = resultado - teste_marcacoes\n",
    "\n",
    "acertos = [d for d in diferencas if d == 0]\n",
    "total_acertos = len(acertos)\n",
    "total_elementos = len(teste_dados)\n",
    "taxa_acerto = 100.0 * (total_acertos / total_elementos)"
   ]
  },
  {
   "cell_type": "code",
   "execution_count": 31,
   "id": "47e44992-222a-438d-9b2a-76fe49a4e880",
   "metadata": {},
   "outputs": [
    {
     "name": "stdout",
     "output_type": "stream",
     "text": [
      "Taxa de acerto do algoritmo: 82.0\n",
      "total de elementos: 100\n"
     ]
    }
   ],
   "source": [
    "print(f\"Taxa de acerto do algoritmo: {taxa_acerto}\")\n",
    "print(f\"total de elementos: {total_elementos}\")"
   ]
  },
  {
   "cell_type": "markdown",
   "id": "afb26b9b-140d-45e6-9c25-958187c5a58d",
   "metadata": {},
   "source": [
    "* Algoritmo \"burro\" \n",
    "    * Algoritmo mais simples possível para classificações\n",
    "    * Ele considera como resposta para todas as situações o valor no qual mais aparece\n",
    "    * Por exemplo: se a maioria das marcações foi \"comprou\", ele marca todos como comprou"
   ]
  },
  {
   "cell_type": "code",
   "execution_count": 32,
   "id": "7959b683-0cc6-4eec-93ba-ce587a61fd9b",
   "metadata": {},
   "outputs": [
    {
     "name": "stdout",
     "output_type": "stream",
     "text": [
      "Taxa de acerto base (algoritmo burro): 83.2\n"
     ]
    }
   ],
   "source": [
    "acerto_um = sum(Y)\n",
    "acerto_zero = len(Y) - acerto_um\n",
    "taxa_acerto_base = 100.0 * max(acerto_um, acerto_zero) / len(Y)\n",
    "print(f\"Taxa de acerto base (algoritmo burro): {taxa_acerto_base}\")"
   ]
  },
  {
   "cell_type": "markdown",
   "id": "1fa05aac-baa5-4754-bc67-7396e761fe0a",
   "metadata": {},
   "source": [
    "# ---------------------------------------VALIDAÇÃO---------------------------------------\n",
    "\n",
    "    * Como registrar os nossos testes\n",
    "    * Como testar o algoritmo com variáveis diferentes\n",
    "    * O algoritmo AdaBoost\n",
    "    * Variações de algoritmos nos testes\n",
    "    * As três fases do nosso algoritmo\n",
    "    * Como validar o algoritmo com dados do mundo real\n",
    "    * Como verificar o melhor algoritmo, validando o vencedor"
   ]
  },
  {
   "cell_type": "code",
   "execution_count": 33,
   "id": "a67ae608-3fa4-4e0f-b9fb-2514a0ac4933",
   "metadata": {},
   "outputs": [],
   "source": [
    "import pandas as pd\n",
    "from collections import Counter"
   ]
  },
  {
   "cell_type": "code",
   "execution_count": 34,
   "id": "973f11e6-8e28-4ae1-b5dc-448cdaa39dd7",
   "metadata": {},
   "outputs": [],
   "source": [
    "df = pd.read_csv('categoricas2.csv')\n",
    "X_df = df[['home','busca', 'logado']]\n",
    "Y_df = df['comprou']\n",
    "\n",
    "Xdummies_df = pd.get_dummies(X_df)\n",
    "Ydummies_df = Y_df\n",
    "\n",
    "X = Xdummies_df.values\n",
    "Y = Ydummies_df.values "
   ]
  },
  {
   "cell_type": "markdown",
   "id": "908bfe63-c263-42e6-8f2a-5f4d19cacca5",
   "metadata": {},
   "source": [
    " * Usei 90% dos dados entre treino e teste abaixo ,logo a  % de validação vai ser de 0.1 "
   ]
  },
  {
   "cell_type": "code",
   "execution_count": 35,
   "id": "aa81453a-f308-4553-8138-81552e0d1a88",
   "metadata": {},
   "outputs": [],
   "source": [
    "porcentagem_de_treino = 0.8\n",
    "porcentagem_de_teste = 0.1"
   ]
  },
  {
   "cell_type": "code",
   "execution_count": 36,
   "id": "bc0db785-2d7c-41d8-a3fb-6c45f96c39f2",
   "metadata": {},
   "outputs": [],
   "source": [
    "tamanho_de_treino = int(porcentagem_de_treino * len(Y))\n",
    "tamanho_de_teste = int(porcentagem_de_teste * len(Y))\n",
    "tamanho_de_validacao = len(Y) - tamanho_de_treino - tamanho_de_teste\n",
    "\n",
    "fim_de_teste = tamanho_de_treino + tamanho_de_teste"
   ]
  },
  {
   "cell_type": "code",
   "execution_count": 37,
   "id": "2964ae79-ab60-4b37-87ba-d5568ff97835",
   "metadata": {},
   "outputs": [],
   "source": [
    "#0 - 799\n",
    "treino_dados = X[:tamanho_de_treino]\n",
    "treino_marcacoes = Y[:tamanho_de_treino]"
   ]
  },
  {
   "cell_type": "code",
   "execution_count": 38,
   "id": "4bf93e8d-2f91-45be-9d6e-de19c77897b6",
   "metadata": {},
   "outputs": [],
   "source": [
    "#800 - 899\n",
    "teste_dados = X[tamanho_de_treino:fim_de_teste]\n",
    "teste_marcacoes = Y[tamanho_de_treino:fim_de_teste]"
   ]
  },
  {
   "cell_type": "code",
   "execution_count": 39,
   "id": "aa59179f-8ec8-4e1e-8b11-b5fc5434c15b",
   "metadata": {},
   "outputs": [],
   "source": [
    "#900 - 999\n",
    "validacao_dados = X[fim_de_teste:]\n",
    "validacao_marcacoes = Y[fim_de_teste:]"
   ]
  },
  {
   "cell_type": "code",
   "execution_count": 40,
   "id": "9a5773f1-9776-4a3b-a3f3-5ce575075de6",
   "metadata": {},
   "outputs": [],
   "source": [
    "def fit_and_predict(nome, modelo, treino_dados, treino_marcacoes, teste_dados, teste_marcacoes):\n",
    "    modelo.fit(treino_dados, treino_marcacoes)\n",
    "\n",
    "    resultado = modelo.predict(teste_dados)\n",
    "    \n",
    "    print(resultado)\n",
    "\n",
    "    acertos = resultado == teste_marcacoes\n",
    "    \n",
    "    print(acertos)\n",
    "\n",
    "    total_de_acertos = sum(acertos)\n",
    "    \n",
    "    print(total_de_acertos)\n",
    "    \n",
    "    total_de_elementos = len(teste_dados)\n",
    "\n",
    "    taxa_de_acerto = 100.0 * total_de_acertos / total_de_elementos\n",
    "\n",
    "    msg = \"Taxa de acerto do algoritmo {0}: {1}\".format(nome, taxa_de_acerto)\n",
    "\n",
    "    print(msg)\n",
    "    return taxa_de_acerto"
   ]
  },
  {
   "cell_type": "code",
   "execution_count": 41,
   "id": "31f53737-1aa8-437d-b1b0-f974d6edd6da",
   "metadata": {},
   "outputs": [],
   "source": [
    "def teste_real(modelo, validacao_dados, validacao_marcacoes):\n",
    "    resultado = modelo.predict(validacao_dados)\n",
    "    acertos = resultado == validacao_marcacoes\n",
    "\n",
    "    total_de_acertos = sum(acertos)\n",
    "    total_de_elementos = len(validacao_marcacoes)\n",
    "\n",
    "    taxa_de_acerto = 100.0 * total_de_acertos / total_de_elementos\n",
    "\n",
    "    msg = \"Taxa de acerto do vencedor entre os dois algoritmos no mundo real: {0}\".format(taxa_de_acerto)\n",
    "    print(msg)"
   ]
  },
  {
   "cell_type": "code",
   "execution_count": 48,
   "id": "39f93997-e79a-4cca-9db8-a5c7940d99ae",
   "metadata": {},
   "outputs": [
    {
     "name": "stdout",
     "output_type": "stream",
     "text": [
      "[0 0 1 1 1 1 1]\n",
      "[False  True  True  True  True  True  True]\n",
      "6\n",
      "Taxa de acerto do algoritmo MultinomialNB: 85.71428571428571\n"
     ]
    }
   ],
   "source": [
    "from sklearn.naive_bayes import MultinomialNB\n",
    "modeloMultinomial = MultinomialNB()\n",
    "resultadoMultinomial = fit_and_predict(\"MultinomialNB\", modeloMultinomial, treino_dados,\n",
    "treino_marcacoes, teste_dados, teste_marcacoes)"
   ]
  },
  {
   "cell_type": "code",
   "execution_count": 49,
   "id": "711d1cfc-6f89-46ff-b3cb-a61c81490cdb",
   "metadata": {},
   "outputs": [
    {
     "name": "stdout",
     "output_type": "stream",
     "text": [
      "[1 1 1 1 1 1 1]\n",
      "[ True False  True  True  True  True  True]\n",
      "6\n",
      "Taxa de acerto do algoritmo AdaBoostClassifier: 85.71428571428571\n"
     ]
    }
   ],
   "source": [
    "from sklearn.ensemble import AdaBoostClassifier\n",
    "modeloAdaBoost = AdaBoostClassifier()\n",
    "resultadoAdaBoost = fit_and_predict(\"AdaBoostClassifier\", modeloAdaBoost, treino_dados, \n",
    "treino_marcacoes, teste_dados, teste_marcacoes)"
   ]
  },
  {
   "cell_type": "code",
   "execution_count": 44,
   "id": "1efc46c5-d467-4ceb-bb0c-cec8bc36542b",
   "metadata": {},
   "outputs": [
    {
     "name": "stdout",
     "output_type": "stream",
     "text": [
      "vencedor: AdaBoostClassifier()\n"
     ]
    }
   ],
   "source": [
    "if resultadoMultinomial > resultadoAdaBoost:\n",
    "    vencedor = modeloMultinomial\n",
    "else:\n",
    "    vencedor = modeloAdaBoost\n",
    "    \n",
    "print(f'vencedor: {vencedor}')"
   ]
  },
  {
   "cell_type": "code",
   "execution_count": 45,
   "id": "d3aeac2a-e381-46c8-ab1d-2a27c229e342",
   "metadata": {},
   "outputs": [
    {
     "name": "stdout",
     "output_type": "stream",
     "text": [
      "Taxa de acerto do vencedor entre os dois algoritmos no mundo real: 62.5\n"
     ]
    }
   ],
   "source": [
    "teste_real(vencedor, validacao_dados, validacao_marcacoes)"
   ]
  },
  {
   "cell_type": "markdown",
   "id": "98c43fea-9cc0-45aa-bb54-f00fb4c836f5",
   "metadata": {},
   "source": [
    "* Comparando resultado do melhor classificador com o algoritmo base"
   ]
  },
  {
   "cell_type": "code",
   "execution_count": 46,
   "id": "f093098b-9625-4637-a20c-b0da913434a4",
   "metadata": {},
   "outputs": [
    {
     "name": "stdout",
     "output_type": "stream",
     "text": [
      "Taxa de acerto base: 62.500000\n"
     ]
    }
   ],
   "source": [
    "acerto_base = max(Counter(validacao_marcacoes).values())\n",
    "taxa_de_acerto_base = 100.0 * acerto_base / len(validacao_marcacoes)\n",
    "print(\"Taxa de acerto base: %f\" % taxa_de_acerto_base)"
   ]
  },
  {
   "cell_type": "code",
   "execution_count": 50,
   "id": "9969c75a-d5b8-44bb-9945-8b57538c2c3f",
   "metadata": {},
   "outputs": [
    {
     "name": "stdout",
     "output_type": "stream",
     "text": [
      "Total de elementos para validação: 8\n"
     ]
    }
   ],
   "source": [
    "total_de_elementos = len(validacao_dados)\n",
    "print(\"Total de elementos para validação: %d\" % total_de_elementos)"
   ]
  },
  {
   "cell_type": "code",
   "execution_count": null,
   "id": "f298466b-b6de-4b30-a9eb-7ab0da0da0b0",
   "metadata": {},
   "outputs": [],
   "source": []
  },
  {
   "cell_type": "code",
   "execution_count": null,
   "id": "a87b1dcd-474f-4b3b-a559-2bb78eb3a7c5",
   "metadata": {},
   "outputs": [],
   "source": []
  },
  {
   "cell_type": "code",
   "execution_count": null,
   "id": "fe4301dd-e151-4ab2-95f2-b3c235af113b",
   "metadata": {},
   "outputs": [],
   "source": []
  },
  {
   "cell_type": "code",
   "execution_count": null,
   "id": "d2e900da-372a-40fb-b063-eac94c2416c9",
   "metadata": {},
   "outputs": [],
   "source": []
  },
  {
   "cell_type": "code",
   "execution_count": null,
   "id": "85ee0785-fc67-4c03-8e7e-259cb48b3185",
   "metadata": {},
   "outputs": [],
   "source": []
  },
  {
   "cell_type": "code",
   "execution_count": null,
   "id": "6c5fed74-4108-409f-9003-4254532c364b",
   "metadata": {},
   "outputs": [],
   "source": []
  },
  {
   "cell_type": "code",
   "execution_count": null,
   "id": "554f1b0a-7f85-4322-af8e-6f4d546df87c",
   "metadata": {},
   "outputs": [],
   "source": []
  },
  {
   "cell_type": "code",
   "execution_count": null,
   "id": "e9509191-eac5-4a24-ba2c-8aef9f8f798e",
   "metadata": {},
   "outputs": [],
   "source": []
  },
  {
   "cell_type": "code",
   "execution_count": null,
   "id": "f4d013c8-f51a-4837-ba99-afe5b45e49c5",
   "metadata": {},
   "outputs": [],
   "source": []
  }
 ],
 "metadata": {
  "kernelspec": {
   "display_name": "Python 3",
   "language": "python",
   "name": "python3"
  },
  "language_info": {
   "codemirror_mode": {
    "name": "ipython",
    "version": 3
   },
   "file_extension": ".py",
   "mimetype": "text/x-python",
   "name": "python",
   "nbconvert_exporter": "python",
   "pygments_lexer": "ipython3",
   "version": "3.8.10"
  }
 },
 "nbformat": 4,
 "nbformat_minor": 5
}
