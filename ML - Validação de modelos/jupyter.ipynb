{
 "cells": [
  {
   "cell_type": "markdown",
   "id": "4f30d38f-2586-475f-9efb-dc01ef81309b",
   "metadata": {},
   "source": [
    "# <font color=green> Machine Learning: Validação de modelos\n",
    "---"
   ]
  },
  {
   "cell_type": "markdown",
   "id": "3f58cdd9-1a64-484e-b960-c3c30e3fe8fd",
   "metadata": {},
   "source": [
    "# ---------------------------------------VALIDAÇÃO CRUZADA E ALEATORIEDADE---------------------------------------\n",
    "\n",
    "    * Utilizar o método read_csv do pandas;\n",
    "    * O que é a validação cruzada(cross validation);\n",
    "    * Utilizar o std para saber o desvio padrão;\n",
    "    * Árvore de classificação."
   ]
  },
  {
   "cell_type": "code",
   "execution_count": 1,
   "id": "56465fcf-8e9b-4603-b16f-3d5a297a07eb",
   "metadata": {},
   "outputs": [
    {
     "data": {
      "text/html": [
       "<div>\n",
       "<style scoped>\n",
       "    .dataframe tbody tr th:only-of-type {\n",
       "        vertical-align: middle;\n",
       "    }\n",
       "\n",
       "    .dataframe tbody tr th {\n",
       "        vertical-align: top;\n",
       "    }\n",
       "\n",
       "    .dataframe thead th {\n",
       "        text-align: right;\n",
       "    }\n",
       "</style>\n",
       "<table border=\"1\" class=\"dataframe\">\n",
       "  <thead>\n",
       "    <tr style=\"text-align: right;\">\n",
       "      <th></th>\n",
       "      <th>preco</th>\n",
       "      <th>vendido</th>\n",
       "      <th>idade_do_modelo</th>\n",
       "      <th>km_por_ano</th>\n",
       "    </tr>\n",
       "  </thead>\n",
       "  <tbody>\n",
       "    <tr>\n",
       "      <th>0</th>\n",
       "      <td>30941.02</td>\n",
       "      <td>1</td>\n",
       "      <td>18</td>\n",
       "      <td>35085.22134</td>\n",
       "    </tr>\n",
       "    <tr>\n",
       "      <th>1</th>\n",
       "      <td>40557.96</td>\n",
       "      <td>1</td>\n",
       "      <td>20</td>\n",
       "      <td>12622.05362</td>\n",
       "    </tr>\n",
       "    <tr>\n",
       "      <th>2</th>\n",
       "      <td>89627.50</td>\n",
       "      <td>0</td>\n",
       "      <td>12</td>\n",
       "      <td>11440.79806</td>\n",
       "    </tr>\n",
       "    <tr>\n",
       "      <th>3</th>\n",
       "      <td>95276.14</td>\n",
       "      <td>0</td>\n",
       "      <td>3</td>\n",
       "      <td>43167.32682</td>\n",
       "    </tr>\n",
       "    <tr>\n",
       "      <th>4</th>\n",
       "      <td>117384.68</td>\n",
       "      <td>1</td>\n",
       "      <td>4</td>\n",
       "      <td>12770.11290</td>\n",
       "    </tr>\n",
       "  </tbody>\n",
       "</table>\n",
       "</div>"
      ],
      "text/plain": [
       "       preco  vendido  idade_do_modelo   km_por_ano\n",
       "0   30941.02        1               18  35085.22134\n",
       "1   40557.96        1               20  12622.05362\n",
       "2   89627.50        0               12  11440.79806\n",
       "3   95276.14        0                3  43167.32682\n",
       "4  117384.68        1                4  12770.11290"
      ]
     },
     "execution_count": 1,
     "metadata": {},
     "output_type": "execute_result"
    }
   ],
   "source": [
    "import numpy as np\n",
    "from sklearn.model_selection import train_test_split\n",
    "from sklearn.svm import LinearSVC\n",
    "from sklearn.metrics import accuracy_score\n",
    "from sklearn.dummy import DummyClassifier\n",
    "from sklearn.tree import DecisionTreeClassifier\n",
    "from sklearn.model_selection import cross_validate\n",
    "import pandas as pd\n",
    "\n",
    "uri = \"https://gist.githubusercontent.com/guilhermesilveira/e99a526b2e7ccc6c3b70f53db43a87d2/raw/1605fc74aa778066bf2e6695e24d53cf65f2f447/machine-learning-carros-simulacao.csv\"\n",
    "dados = pd.read_csv(uri).drop(columns=[\"Unnamed: 0\"], axis=1)\n",
    "dados.head()"
   ]
  },
  {
   "cell_type": "markdown",
   "id": "841cc313-64b0-4e00-82bd-b45783223bdf",
   "metadata": {},
   "source": [
    "* Recuperando dados de treino e teste:"
   ]
  },
  {
   "cell_type": "code",
   "execution_count": 2,
   "id": "5dcbf881-06c8-4f61-9757-89e70d6c41d6",
   "metadata": {},
   "outputs": [
    {
     "name": "stdout",
     "output_type": "stream",
     "text": [
      "Treinaremos com 7500 elementos e testaremos com 2500 elementos\n"
     ]
    }
   ],
   "source": [
    "x = dados[[\"preco\", \"idade_do_modelo\",\"km_por_ano\"]]\n",
    "y = dados[\"vendido\"]\n",
    "\n",
    "SEED = 158020\n",
    "np.random.seed(SEED)\n",
    "treino_x, teste_x, treino_y, teste_y = train_test_split(x, y, test_size = 0.25,\n",
    "                                                         stratify = y)\n",
    "print(\"Treinaremos com %d elementos e testaremos com %d elementos\" % (len(treino_x), len(teste_x)))"
   ]
  },
  {
   "cell_type": "markdown",
   "id": "c5b2a6d4-0038-4af6-a37c-51c857584ad9",
   "metadata": {},
   "source": [
    "* Dummy"
   ]
  },
  {
   "cell_type": "code",
   "execution_count": 3,
   "id": "d5674787-98e7-40f2-96e8-5f9c643a5072",
   "metadata": {},
   "outputs": [
    {
     "name": "stdout",
     "output_type": "stream",
     "text": [
      "A acurácia do dummy stratified foi 58.00%\n"
     ]
    }
   ],
   "source": [
    "dummy_stratified = DummyClassifier()\n",
    "dummy_stratified.fit(treino_x, treino_y)\n",
    "acuracia = dummy_stratified.score(teste_x, teste_y) * 100\n",
    "\n",
    "print(\"A acurácia do dummy stratified foi %.2f%%\" % acuracia)    "
   ]
  },
  {
   "cell_type": "markdown",
   "id": "4f0bab04-a313-4c35-858a-25868cbef045",
   "metadata": {},
   "source": [
    "* DecisionTree"
   ]
  },
  {
   "cell_type": "code",
   "execution_count": 4,
   "id": "ffddf878-2692-44dc-a56b-fdfbdb38d756",
   "metadata": {},
   "outputs": [
    {
     "name": "stdout",
     "output_type": "stream",
     "text": [
      "A acurácia foi 71.92%\n"
     ]
    }
   ],
   "source": [
    "SEED = 158020\n",
    "np.random.seed(SEED)\n",
    "\n",
    "modelo = DecisionTreeClassifier(max_depth=2)\n",
    "modelo.fit(treino_x, treino_y)\n",
    "previsoes = modelo.predict(teste_x)\n",
    "\n",
    "acuracia = accuracy_score(teste_y, previsoes) * 100\n",
    "print(\"A acurácia foi %.2f%%\" % acuracia)"
   ]
  },
  {
   "cell_type": "markdown",
   "id": "400cbdc0-9506-4ac5-a67a-d771fae0a5e6",
   "metadata": {},
   "source": [
    "# ALTERANDO O SEED:"
   ]
  },
  {
   "cell_type": "markdown",
   "id": "ee8c4056-463e-4a25-b87c-70acaa0973d7",
   "metadata": {},
   "source": [
    "* AO ANALISAR OS RESULTADOS COM SEEDs DIFERENTES, TEMOS RESULTADOS DIFRENTES, PORÉM A NOSSA DECISÃO NÃO PODE DEPEDER DE UMA ALEATORIEDADE! ENTÃO DEVEMOS MINIMIZAR O EFEITO DESSA ALEATORIEDADE DO TREINO E TESTE NA NOSSA DECISÃO. E A SOLUÇÃO PARA ISSO É A VALIDAÇÃO CRUZADA"
   ]
  },
  {
   "cell_type": "markdown",
   "id": "5b22df10-ba20-4d3a-962c-2d5460ed0c32",
   "metadata": {},
   "source": [
    "# CROSS VALIDATE:"
   ]
  },
  {
   "cell_type": "markdown",
   "id": "3801d6c4-cae4-4b00-8914-21eac739b02c",
   "metadata": {},
   "source": [
    "* PARA TRABALHARMOS COM A VALIDAÇÃO CRUZADA\n",
    "* AGORA INDEPENDENTE DO VALOR DO MEU SEED, MEUS RESULTADOS SERÃO OS MESMOS\n",
    "* Obs.: 95% da densidade estará dentro da média, mais ou menos dois desvios padrões. Então, desvio padrão é o quanto estamos desviando dessa média\n",
    "* Obs.: CV = qts partes queremos quebrar nossos dados\n",
    "* Obs.: return_train_score=False para retornarmos apenas os dados de teste, e não os de treino!"
   ]
  },
  {
   "cell_type": "code",
   "execution_count": 5,
   "id": "b69f1bfd-c57f-46fb-a847-89594d783c6b",
   "metadata": {},
   "outputs": [
    {
     "name": "stdout",
     "output_type": "stream",
     "text": [
      "Accuracy com cross validation, 10 = [74.24, 77.32]\n"
     ]
    }
   ],
   "source": [
    "SEED = 5\n",
    "np.random.seed(SEED)\n",
    "\n",
    "modelo = DecisionTreeClassifier(max_depth=2)\n",
    "results = cross_validate(modelo, x, y, cv = 10, return_train_score=False)\n",
    "media = results['test_score'].mean()\n",
    "desvio_padrao = results['test_score'].std()\n",
    "print(\"Accuracy com cross validation, 10 = [%.2f, %.2f]\" % ((media - 2 * desvio_padrao)*100, (media + 2 * desvio_padrao) * 100))"
   ]
  },
  {
   "cell_type": "code",
   "execution_count": 7,
   "id": "e45007b6-4a91-4b07-ad0e-f0ecde1e83d1",
   "metadata": {},
   "outputs": [
    {
     "name": "stdout",
     "output_type": "stream",
     "text": [
      "Accuracy com cross validation, 5 = [74.24, 77.32]\n"
     ]
    }
   ],
   "source": [
    "SEED = 515\n",
    "np.random.seed(SEED)\n",
    "\n",
    "modelo = DecisionTreeClassifier(max_depth=2)\n",
    "results = cross_validate(modelo, x, y, cv = 10, return_train_score=False)\n",
    "media = results['test_score'].mean()\n",
    "desvio_padrao = results['test_score'].std()\n",
    "print(\"Accuracy com cross validation, 5 = [%.2f, %.2f]\" % ((media - 2 * desvio_padrao)*100, (media + 2 * desvio_padrao) * 100))"
   ]
  },
  {
   "cell_type": "markdown",
   "id": "b4afdecf-44a1-459b-aefb-eb5ce6401a7e",
   "metadata": {},
   "source": [
    "# ---------------------------------------k-FOLD E ALEATORIEDADE---------------------------------------\n",
    "\n",
    "    * Utilizar o método KFold para embaralhar(shuffle)."
   ]
  },
  {
   "cell_type": "markdown",
   "id": "2c0482f8-c75b-422e-a922-2f37553c8e50",
   "metadata": {},
   "source": [
    "* O Cross Validate não recebe o parâmetro de aleatoriedade, e esse é o padrão. Nós sabemos em quantos pedaços ele quebrará os dados, porque somos nós quem decidimos essa quantidade\n",
    "* Por mais que recebamos todos os dados em uma sequência, não queremos quebrar eles em 5 pedaços e, a partir disso, fazer o cross_validate. O ideal seria embaralhar estes dados e, então executar a validação cruzada."
   ]
  },
  {
   "cell_type": "code",
   "execution_count": 8,
   "id": "7e177e62-c5c4-444e-889a-b1e550dc89cf",
   "metadata": {},
   "outputs": [],
   "source": [
    "from sklearn.model_selection import KFold"
   ]
  },
  {
   "cell_type": "code",
   "execution_count": 9,
   "id": "7e4c35e1-3901-4b11-8e44-30798ffae503",
   "metadata": {},
   "outputs": [
    {
     "data": {
      "text/html": [
       "<div>\n",
       "<style scoped>\n",
       "    .dataframe tbody tr th:only-of-type {\n",
       "        vertical-align: middle;\n",
       "    }\n",
       "\n",
       "    .dataframe tbody tr th {\n",
       "        vertical-align: top;\n",
       "    }\n",
       "\n",
       "    .dataframe thead th {\n",
       "        text-align: right;\n",
       "    }\n",
       "</style>\n",
       "<table border=\"1\" class=\"dataframe\">\n",
       "  <thead>\n",
       "    <tr style=\"text-align: right;\">\n",
       "      <th></th>\n",
       "      <th>preco</th>\n",
       "      <th>vendido</th>\n",
       "      <th>idade_do_modelo</th>\n",
       "      <th>km_por_ano</th>\n",
       "    </tr>\n",
       "  </thead>\n",
       "  <tbody>\n",
       "    <tr>\n",
       "      <th>0</th>\n",
       "      <td>30941.02</td>\n",
       "      <td>1</td>\n",
       "      <td>18</td>\n",
       "      <td>35085.22134</td>\n",
       "    </tr>\n",
       "    <tr>\n",
       "      <th>1</th>\n",
       "      <td>40557.96</td>\n",
       "      <td>1</td>\n",
       "      <td>20</td>\n",
       "      <td>12622.05362</td>\n",
       "    </tr>\n",
       "    <tr>\n",
       "      <th>2</th>\n",
       "      <td>89627.50</td>\n",
       "      <td>0</td>\n",
       "      <td>12</td>\n",
       "      <td>11440.79806</td>\n",
       "    </tr>\n",
       "    <tr>\n",
       "      <th>3</th>\n",
       "      <td>95276.14</td>\n",
       "      <td>0</td>\n",
       "      <td>3</td>\n",
       "      <td>43167.32682</td>\n",
       "    </tr>\n",
       "    <tr>\n",
       "      <th>4</th>\n",
       "      <td>117384.68</td>\n",
       "      <td>1</td>\n",
       "      <td>4</td>\n",
       "      <td>12770.11290</td>\n",
       "    </tr>\n",
       "  </tbody>\n",
       "</table>\n",
       "</div>"
      ],
      "text/plain": [
       "       preco  vendido  idade_do_modelo   km_por_ano\n",
       "0   30941.02        1               18  35085.22134\n",
       "1   40557.96        1               20  12622.05362\n",
       "2   89627.50        0               12  11440.79806\n",
       "3   95276.14        0                3  43167.32682\n",
       "4  117384.68        1                4  12770.11290"
      ]
     },
     "execution_count": 9,
     "metadata": {},
     "output_type": "execute_result"
    }
   ],
   "source": [
    "import numpy as np\n",
    "from sklearn.model_selection import train_test_split\n",
    "from sklearn.svm import LinearSVC\n",
    "from sklearn.metrics import accuracy_score\n",
    "from sklearn.dummy import DummyClassifier\n",
    "from sklearn.tree import DecisionTreeClassifier\n",
    "from sklearn.model_selection import cross_validate\n",
    "import pandas as pd\n",
    "\n",
    "uri = \"https://gist.githubusercontent.com/guilhermesilveira/e99a526b2e7ccc6c3b70f53db43a87d2/raw/1605fc74aa778066bf2e6695e24d53cf65f2f447/machine-learning-carros-simulacao.csv\"\n",
    "dados = pd.read_csv(uri).drop(columns=[\"Unnamed: 0\"], axis=1)\n",
    "dados.head()"
   ]
  },
  {
   "cell_type": "code",
   "execution_count": 10,
   "id": "b338dbc4-5953-42a8-8af2-0b1478b74d19",
   "metadata": {},
   "outputs": [],
   "source": [
    "x = dados[[\"preco\", \"idade_do_modelo\",\"km_por_ano\"]]\n",
    "y = dados[\"vendido\"]"
   ]
  },
  {
   "cell_type": "code",
   "execution_count": 11,
   "id": "99d50423-5cef-43b4-a143-e0fd6ed08a31",
   "metadata": {},
   "outputs": [],
   "source": [
    "def imprime_resultado(results):\n",
    "    media = results['test_score'].mean()\n",
    "    desvio_padrao = results['test_score'].std()\n",
    "    print(\"Accuracy médio %.2f\" % (media * 100))\n",
    "    print(\"Accuracy intervalo = [%.2f, %.2f]\" % ((media - 2 * desvio_padrao)*100, (media + 2 * desvio_padrao) * 100))"
   ]
  },
  {
   "cell_type": "code",
   "execution_count": 12,
   "id": "a1282798-ae4a-4347-92dc-169b8e47e0ae",
   "metadata": {},
   "outputs": [
    {
     "name": "stdout",
     "output_type": "stream",
     "text": [
      "Accuracy médio 75.78\n",
      "Accuracy intervalo = [74.37, 77.19]\n"
     ]
    }
   ],
   "source": [
    "cv = KFold(n_splits = 10)\n",
    "modelo = DecisionTreeClassifier(max_depth=2)\n",
    "results = cross_validate(modelo, x, y, cv = cv, return_train_score=False)\n",
    "imprime_resultado(results)"
   ]
  },
  {
   "cell_type": "markdown",
   "id": "44920970-bc1c-4147-9bdc-7d5a625ed62e",
   "metadata": {},
   "source": [
    "* Shuffle = True para embaralhar meus dados antes de fazer a validação cruzada (quebrar em N pedaços)"
   ]
  },
  {
   "cell_type": "code",
   "execution_count": 13,
   "id": "d33a3ae7-c594-4592-905f-cedcab48ed5c",
   "metadata": {},
   "outputs": [
    {
     "name": "stdout",
     "output_type": "stream",
     "text": [
      "Accuracy médio 75.78\n",
      "Accuracy intervalo = [73.56, 78.00]\n"
     ]
    }
   ],
   "source": [
    "cvv = KFold(n_splits = 10, shuffle = True)\n",
    "modelo = DecisionTreeClassifier(max_depth=2)\n",
    "results = cross_validate(modelo, x, y, cv = cvv, return_train_score=False)\n",
    "imprime_resultado(results)"
   ]
  },
  {
   "cell_type": "markdown",
   "id": "77927a15-94bf-4691-92c5-04178f9e0c2d",
   "metadata": {},
   "source": [
    "# ---------------------------------------ESTRATIFICAÇÃO---------------------------------------\n",
    "\n",
    "    * Simular uma situação com dados;\n",
    "    * Ordenar nosso dataframe utilizando o sort_value(“vendido“’);"
   ]
  },
  {
   "cell_type": "markdown",
   "id": "90686aa7-d668-46d1-8bc9-5d2d82347405",
   "metadata": {},
   "source": [
    "* Estudamos uma questão de sorte e azar em que a validação era simples: treino-teste. Tínhamos o azar de que nossos dados, no momento de realmente utilizá-los, eram separados como, por exemplo, vendido ou não vendido.\n",
    "* Como resultado, no treino estavam quase todos que não foram vendidos e no teste quase todos que foram vendidos. Ou seja, ocorria um desbalanceamento das classes. Então, se tivermos azar, o que pode acontecer?\n",
    "* Com o train_test_split, tínhamos o Stratify como parâmetro, que definia a proporção. Por exemplo, se temos 70% dos dados na classe 0 (não vendido) e 30% na classe 1 (vendido), ele distribui 70% e 30% tanto para treino, quanto para teste. No entanto, esse parâmetro não existe no cross_validate do KFold, que possui apenas os parâmetros n_splits, shuffle e random_state. Sendo assim, não está estratificando."
   ]
  },
  {
   "cell_type": "code",
   "execution_count": 14,
   "id": "58d34ddb-c8c6-4eb0-9279-833371a9b68c",
   "metadata": {
    "tags": []
   },
   "outputs": [],
   "source": [
    "from sklearn.model_selection import KFold\n",
    "from sklearn.model_selection import StratifiedKFold"
   ]
  },
  {
   "cell_type": "code",
   "execution_count": 15,
   "id": "59b8f8f8-dd97-45a6-9f62-2bb300286297",
   "metadata": {},
   "outputs": [],
   "source": [
    "import numpy as np\n",
    "from sklearn.model_selection import train_test_split\n",
    "from sklearn.svm import LinearSVC\n",
    "from sklearn.metrics import accuracy_score\n",
    "from sklearn.dummy import DummyClassifier\n",
    "from sklearn.tree import DecisionTreeClassifier\n",
    "from sklearn.model_selection import cross_validate\n",
    "import pandas as pd\n",
    "\n",
    "uri = \"https://gist.githubusercontent.com/guilhermesilveira/e99a526b2e7ccc6c3b70f53db43a87d2/raw/1605fc74aa778066bf2e6695e24d53cf65f2f447/machine-learning-carros-simulacao.csv\"\n",
    "dados = pd.read_csv(uri).drop(columns=[\"Unnamed: 0\"], axis=1)"
   ]
  },
  {
   "cell_type": "code",
   "execution_count": 16,
   "id": "68c49988-24e5-4e75-bfb9-9842b91a0a21",
   "metadata": {},
   "outputs": [],
   "source": [
    "def imprime_resultado(results):\n",
    "    media = results['test_score'].mean()\n",
    "    desvio_padrao = results['test_score'].std()\n",
    "    print(\"Accuracy médio %.2f\" % (media * 100))\n",
    "    print(\"Accuracy intervalo = [%.2f, %.2f]\" % ((media - 2 * desvio_padrao)*100, (media + 2 * desvio_padrao) * 100))"
   ]
  },
  {
   "cell_type": "markdown",
   "id": "e57e3156-20be-4793-834b-8c152143cc95",
   "metadata": {
    "tags": []
   },
   "source": [
    "#### ----> SIMULAR SITUAÇÃO HORRÍVEL, DE AZAR:"
   ]
  },
  {
   "cell_type": "code",
   "execution_count": 17,
   "id": "af917dc6-9135-41fc-8c35-bb9cba34caf1",
   "metadata": {},
   "outputs": [
    {
     "data": {
      "text/html": [
       "<div>\n",
       "<style scoped>\n",
       "    .dataframe tbody tr th:only-of-type {\n",
       "        vertical-align: middle;\n",
       "    }\n",
       "\n",
       "    .dataframe tbody tr th {\n",
       "        vertical-align: top;\n",
       "    }\n",
       "\n",
       "    .dataframe thead th {\n",
       "        text-align: right;\n",
       "    }\n",
       "</style>\n",
       "<table border=\"1\" class=\"dataframe\">\n",
       "  <thead>\n",
       "    <tr style=\"text-align: right;\">\n",
       "      <th></th>\n",
       "      <th>preco</th>\n",
       "      <th>vendido</th>\n",
       "      <th>idade_do_modelo</th>\n",
       "      <th>km_por_ano</th>\n",
       "    </tr>\n",
       "  </thead>\n",
       "  <tbody>\n",
       "    <tr>\n",
       "      <th>4999</th>\n",
       "      <td>74023.29</td>\n",
       "      <td>0</td>\n",
       "      <td>12</td>\n",
       "      <td>24812.80412</td>\n",
       "    </tr>\n",
       "    <tr>\n",
       "      <th>5322</th>\n",
       "      <td>84843.49</td>\n",
       "      <td>0</td>\n",
       "      <td>13</td>\n",
       "      <td>23095.63834</td>\n",
       "    </tr>\n",
       "    <tr>\n",
       "      <th>5319</th>\n",
       "      <td>83100.27</td>\n",
       "      <td>0</td>\n",
       "      <td>19</td>\n",
       "      <td>36240.72746</td>\n",
       "    </tr>\n",
       "    <tr>\n",
       "      <th>5316</th>\n",
       "      <td>87932.13</td>\n",
       "      <td>0</td>\n",
       "      <td>16</td>\n",
       "      <td>32249.56426</td>\n",
       "    </tr>\n",
       "    <tr>\n",
       "      <th>5315</th>\n",
       "      <td>77937.01</td>\n",
       "      <td>0</td>\n",
       "      <td>15</td>\n",
       "      <td>28414.50704</td>\n",
       "    </tr>\n",
       "  </tbody>\n",
       "</table>\n",
       "</div>"
      ],
      "text/plain": [
       "         preco  vendido  idade_do_modelo   km_por_ano\n",
       "4999  74023.29        0               12  24812.80412\n",
       "5322  84843.49        0               13  23095.63834\n",
       "5319  83100.27        0               19  36240.72746\n",
       "5316  87932.13        0               16  32249.56426\n",
       "5315  77937.01        0               15  28414.50704"
      ]
     },
     "execution_count": 17,
     "metadata": {},
     "output_type": "execute_result"
    }
   ],
   "source": [
    "dados_azar = dados.sort_values(\"vendido\", ascending=True)\n",
    "x_azar = dados_azar[[\"preco\", \"idade_do_modelo\",\"km_por_ano\"]]\n",
    "y_azar = dados_azar[\"vendido\"]\n",
    "dados_azar.head()"
   ]
  },
  {
   "cell_type": "markdown",
   "id": "854c1ceb-475a-4db0-ac8a-b2d7c57edce5",
   "metadata": {},
   "source": [
    "* Sem shuffle:"
   ]
  },
  {
   "cell_type": "code",
   "execution_count": 18,
   "id": "31ddac8a-9eec-4dbc-bce1-29215037561e",
   "metadata": {},
   "outputs": [
    {
     "name": "stdout",
     "output_type": "stream",
     "text": [
      "Accuracy médio 57.84\n",
      "Accuracy intervalo = [34.29, 81.39]\n"
     ]
    }
   ],
   "source": [
    "cv = KFold(n_splits = 10)\n",
    "modelo = DecisionTreeClassifier(max_depth=2)\n",
    "results = cross_validate(modelo, x_azar, y_azar, cv = cv, return_train_score=False)\n",
    "imprime_resultado(results)"
   ]
  },
  {
   "cell_type": "markdown",
   "id": "6271ce63-19bb-4d1b-846c-68d57d4457d2",
   "metadata": {},
   "source": [
    "* Com shuffle:\n",
    "    * Percebe-se que com o embaralhamento, nossas situações de azar são minimizadas!"
   ]
  },
  {
   "cell_type": "code",
   "execution_count": 19,
   "id": "d5a2174d-2f59-4f0d-bb98-7617fb7c167f",
   "metadata": {},
   "outputs": [
    {
     "name": "stdout",
     "output_type": "stream",
     "text": [
      "Accuracy médio 75.78\n",
      "Accuracy intervalo = [73.43, 78.13]\n"
     ]
    }
   ],
   "source": [
    "cvv = KFold(n_splits = 10, shuffle = True)\n",
    "modelo = DecisionTreeClassifier(max_depth=2)\n",
    "results = cross_validate(modelo, x_azar, y_azar, cv = cvv, return_train_score=False)\n",
    "imprime_resultado(results)"
   ]
  },
  {
   "cell_type": "markdown",
   "id": "d38f9240-2783-4171-98bb-e68e0c0e667e",
   "metadata": {},
   "source": [
    "---------------------------------------------------------------------------------------------------------------"
   ]
  },
  {
   "cell_type": "markdown",
   "id": "d614ae24-f849-4c53-b01a-08b318faf247",
   "metadata": {},
   "source": [
    "---------------------------------------------------------------------------------------------------------------"
   ]
  },
  {
   "cell_type": "markdown",
   "id": "9382b484-e6f9-474f-bc53-d4da6a07f85e",
   "metadata": {},
   "source": [
    "#### ----> SIMULAR SITUAÇÃO NORMAL:"
   ]
  },
  {
   "cell_type": "code",
   "execution_count": 20,
   "id": "8fe8c96f-bec0-4502-9e15-73f38b30b230",
   "metadata": {},
   "outputs": [],
   "source": [
    "x = dados[[\"preco\", \"idade_do_modelo\",\"km_por_ano\"]]\n",
    "y = dados[\"vendido\"]"
   ]
  },
  {
   "cell_type": "markdown",
   "id": "7e30f512-0200-4978-8dc1-b5161b226926",
   "metadata": {},
   "source": [
    "* Sem shuffle:"
   ]
  },
  {
   "cell_type": "code",
   "execution_count": 21,
   "id": "c2713744-cfd2-47d8-9009-85226a3e2dee",
   "metadata": {},
   "outputs": [
    {
     "name": "stdout",
     "output_type": "stream",
     "text": [
      "Accuracy médio 75.78\n",
      "Accuracy intervalo = [74.37, 77.19]\n"
     ]
    }
   ],
   "source": [
    "cv = KFold(n_splits = 10)\n",
    "modelo = DecisionTreeClassifier(max_depth=2)\n",
    "results = cross_validate(modelo, x, y, cv = cv, return_train_score=False)\n",
    "imprime_resultado(results)"
   ]
  },
  {
   "cell_type": "markdown",
   "id": "cf66cf4c-10cf-415b-94e3-810d76e71381",
   "metadata": {},
   "source": [
    "* Shuffle = True para embaralhar meus dados antes de fazer a validação cruzada (quebrar em N pedaços)"
   ]
  },
  {
   "cell_type": "code",
   "execution_count": 22,
   "id": "4de8a1c9-0d92-44d5-8af4-f5ef3476302c",
   "metadata": {},
   "outputs": [
    {
     "name": "stdout",
     "output_type": "stream",
     "text": [
      "Accuracy médio 75.78\n",
      "Accuracy intervalo = [72.21, 79.35]\n"
     ]
    }
   ],
   "source": [
    "cvv = KFold(n_splits = 10, shuffle = True)\n",
    "modelo = DecisionTreeClassifier(max_depth=2)\n",
    "results = cross_validate(modelo, x, y, cv = cvv, return_train_score=False)\n",
    "imprime_resultado(results)"
   ]
  },
  {
   "cell_type": "markdown",
   "id": "ffd5a52a-dfea-41b4-b586-fe45b60050ee",
   "metadata": {},
   "source": [
    "---------------------------------------------------------------------------------------------------------------"
   ]
  },
  {
   "cell_type": "markdown",
   "id": "ca6296ed-7ab7-4321-ad00-1b3bfaf9facb",
   "metadata": {},
   "source": [
    "-----------------------------------------------------------------------------------------------------------"
   ]
  },
  {
   "cell_type": "markdown",
   "id": "a6f20ec6-839a-43ac-b603-bf921a777f6d",
   "metadata": {},
   "source": [
    "#### ----> Testando outros separadores"
   ]
  },
  {
   "cell_type": "markdown",
   "id": "30d1b10f-85e8-4e3a-a1e7-f9921036fd27",
   "metadata": {},
   "source": [
    "* Além do Kfold, também temos o separador \"StratifiedKFold\", que além de separar meus dados para a validação cruzada, também estratifica nossos dados para manter a proporção das minhas classes tanto no treino como no teste"
   ]
  },
  {
   "cell_type": "code",
   "execution_count": 23,
   "id": "fcb49f92-03c5-4aea-8c78-4c3e8e26ef59",
   "metadata": {},
   "outputs": [
    {
     "name": "stdout",
     "output_type": "stream",
     "text": [
      "Accuracy médio 75.78\n",
      "Accuracy intervalo = [73.27, 78.29]\n"
     ]
    }
   ],
   "source": [
    "cvv = StratifiedKFold(n_splits = 10, shuffle = True, )\n",
    "modelo = DecisionTreeClassifier(max_depth=2)\n",
    "results = cross_validate(modelo, x, y, cv = cvv, return_train_score=False)\n",
    "imprime_resultado(results)"
   ]
  },
  {
   "cell_type": "markdown",
   "id": "f58bd4ab-5393-4adc-93be-6321c7e6a24d",
   "metadata": {},
   "source": [
    "# ---------------------------------------DADOS AGRUPÁVEIS---------------------------------------\n",
    "\n",
    "    * Gerar dados aleatórios com o randint;\n",
    "    * Gerar uma nova coluna de dados;\n",
    "    * Utilizar o comando unique para mostrar os modelos únicos;\n",
    "    * Utilizar o GroupKFold para agrupar por grupo."
   ]
  },
  {
   "cell_type": "markdown",
   "id": "f58a7a39-d34d-49e0-99ad-e2620bdbce7f",
   "metadata": {},
   "source": [
    "* É preciso tomar cuidado quando formos separar o treino e o teste. Temos que pensar que, ao treinarmos nosso algorítimo, nós treinamos ele com os dados; quando nós testamos, temos que ser capazes de testar como se fosse no mundo real.\n",
    "* No mundo real em um hospital, fulano é um paciente novo, nunca visto, e aquilo que fora treinado com outros pacientes precisa funcionar com ele também. Na hora de separarmos treino e teste, teríamos de agrupar pelos pacientes. Nós não poderíamos colocar dados da Ana no treino e no teste, porque cada paciente é uma pessoa nova, no mundo real do hospital. \n",
    "* E se nos treinos e testes temos repetições de pacientes, é possível que o algorítimo não generalize bem, para novos pacientes."
   ]
  },
  {
   "cell_type": "code",
   "execution_count": 24,
   "id": "4a9c636b-cfc5-45f8-bba2-dbeabda9da5f",
   "metadata": {},
   "outputs": [],
   "source": [
    "from sklearn.model_selection import KFold\n",
    "from sklearn.model_selection import StratifiedKFold\n",
    "from sklearn.model_selection import GroupKFold\n",
    "\n",
    "import numpy as np\n",
    "from sklearn.model_selection import train_test_split\n",
    "from sklearn.svm import LinearSVC\n",
    "from sklearn.metrics import accuracy_score\n",
    "from sklearn.dummy import DummyClassifier\n",
    "from sklearn.tree import DecisionTreeClassifier\n",
    "from sklearn.model_selection import cross_validate\n",
    "import pandas as pd"
   ]
  },
  {
   "cell_type": "code",
   "execution_count": 25,
   "id": "63227960-80e3-4da9-ae55-b488b24d853e",
   "metadata": {},
   "outputs": [],
   "source": [
    "def imprime_resultado(results):\n",
    "    media = results['test_score'].mean()\n",
    "    desvio_padrao = results['test_score'].std()\n",
    "    print(\"Accuracy médio %.2f\" % (media * 100))\n",
    "    print(\"Accuracy intervalo = [%.2f, %.2f]\" % ((media - 2 * desvio_padrao)*100, (media + 2 * desvio_padrao) * 100))"
   ]
  },
  {
   "cell_type": "code",
   "execution_count": 26,
   "id": "e7eed4dc-9232-4d83-9e5b-09eec2587251",
   "metadata": {},
   "outputs": [
    {
     "data": {
      "text/html": [
       "<div>\n",
       "<style scoped>\n",
       "    .dataframe tbody tr th:only-of-type {\n",
       "        vertical-align: middle;\n",
       "    }\n",
       "\n",
       "    .dataframe tbody tr th {\n",
       "        vertical-align: top;\n",
       "    }\n",
       "\n",
       "    .dataframe thead th {\n",
       "        text-align: right;\n",
       "    }\n",
       "</style>\n",
       "<table border=\"1\" class=\"dataframe\">\n",
       "  <thead>\n",
       "    <tr style=\"text-align: right;\">\n",
       "      <th></th>\n",
       "      <th>preco</th>\n",
       "      <th>vendido</th>\n",
       "      <th>idade_do_modelo</th>\n",
       "      <th>km_por_ano</th>\n",
       "    </tr>\n",
       "  </thead>\n",
       "  <tbody>\n",
       "    <tr>\n",
       "      <th>0</th>\n",
       "      <td>30941.02</td>\n",
       "      <td>1</td>\n",
       "      <td>18</td>\n",
       "      <td>35085.22134</td>\n",
       "    </tr>\n",
       "    <tr>\n",
       "      <th>1</th>\n",
       "      <td>40557.96</td>\n",
       "      <td>1</td>\n",
       "      <td>20</td>\n",
       "      <td>12622.05362</td>\n",
       "    </tr>\n",
       "    <tr>\n",
       "      <th>2</th>\n",
       "      <td>89627.50</td>\n",
       "      <td>0</td>\n",
       "      <td>12</td>\n",
       "      <td>11440.79806</td>\n",
       "    </tr>\n",
       "    <tr>\n",
       "      <th>3</th>\n",
       "      <td>95276.14</td>\n",
       "      <td>0</td>\n",
       "      <td>3</td>\n",
       "      <td>43167.32682</td>\n",
       "    </tr>\n",
       "    <tr>\n",
       "      <th>4</th>\n",
       "      <td>117384.68</td>\n",
       "      <td>1</td>\n",
       "      <td>4</td>\n",
       "      <td>12770.11290</td>\n",
       "    </tr>\n",
       "  </tbody>\n",
       "</table>\n",
       "</div>"
      ],
      "text/plain": [
       "       preco  vendido  idade_do_modelo   km_por_ano\n",
       "0   30941.02        1               18  35085.22134\n",
       "1   40557.96        1               20  12622.05362\n",
       "2   89627.50        0               12  11440.79806\n",
       "3   95276.14        0                3  43167.32682\n",
       "4  117384.68        1                4  12770.11290"
      ]
     },
     "execution_count": 26,
     "metadata": {},
     "output_type": "execute_result"
    }
   ],
   "source": [
    "uri = \"https://gist.githubusercontent.com/guilhermesilveira/e99a526b2e7ccc6c3b70f53db43a87d2/raw/1605fc74aa778066bf2e6695e24d53cf65f2f447/machine-learning-carros-simulacao.csv\"\n",
    "dados = pd.read_csv(uri).drop(columns=[\"Unnamed: 0\"], axis=1)\n",
    "dados.head()"
   ]
  },
  {
   "cell_type": "markdown",
   "id": "fcf3168d-4d4b-4edf-b694-a8889555f26e",
   "metadata": {},
   "source": [
    "### Gerando tabela modelo_carro no nosso dataFrame sem valores negativos. Essa tabela vai ser usada para separarmos os grupos e agrupa-los"
   ]
  },
  {
   "cell_type": "code",
   "execution_count": 27,
   "id": "c15f0d4f-d6a9-4110-ad64-9b1ee1c50e48",
   "metadata": {},
   "outputs": [],
   "source": [
    "# len(dados) = 10000\n",
    "#np.random.randint(-2, 3, size = 1000) => gera 10.000 nmrs entre -2 e 2\n",
    "dados['modelo'] = dados.idade_do_modelo + np.random.randint(-2, 3, size=10000)\n",
    "\n",
    "# dados.modelo_aleatorio.unique() => Vou perceber que tenho um modelo = -1\n",
    "dados.modelo = dados.modelo + abs(dados.modelo.min())"
   ]
  },
  {
   "cell_type": "code",
   "execution_count": 28,
   "id": "89ee67bd-b91a-4537-bf9c-08141cebc468",
   "metadata": {},
   "outputs": [
    {
     "data": {
      "text/html": [
       "<div>\n",
       "<style scoped>\n",
       "    .dataframe tbody tr th:only-of-type {\n",
       "        vertical-align: middle;\n",
       "    }\n",
       "\n",
       "    .dataframe tbody tr th {\n",
       "        vertical-align: top;\n",
       "    }\n",
       "\n",
       "    .dataframe thead th {\n",
       "        text-align: right;\n",
       "    }\n",
       "</style>\n",
       "<table border=\"1\" class=\"dataframe\">\n",
       "  <thead>\n",
       "    <tr style=\"text-align: right;\">\n",
       "      <th></th>\n",
       "      <th>preco</th>\n",
       "      <th>vendido</th>\n",
       "      <th>idade_do_modelo</th>\n",
       "      <th>km_por_ano</th>\n",
       "      <th>modelo</th>\n",
       "    </tr>\n",
       "  </thead>\n",
       "  <tbody>\n",
       "    <tr>\n",
       "      <th>0</th>\n",
       "      <td>30941.02</td>\n",
       "      <td>1</td>\n",
       "      <td>18</td>\n",
       "      <td>35085.22134</td>\n",
       "      <td>19</td>\n",
       "    </tr>\n",
       "    <tr>\n",
       "      <th>1</th>\n",
       "      <td>40557.96</td>\n",
       "      <td>1</td>\n",
       "      <td>20</td>\n",
       "      <td>12622.05362</td>\n",
       "      <td>19</td>\n",
       "    </tr>\n",
       "    <tr>\n",
       "      <th>2</th>\n",
       "      <td>89627.50</td>\n",
       "      <td>0</td>\n",
       "      <td>12</td>\n",
       "      <td>11440.79806</td>\n",
       "      <td>14</td>\n",
       "    </tr>\n",
       "    <tr>\n",
       "      <th>3</th>\n",
       "      <td>95276.14</td>\n",
       "      <td>0</td>\n",
       "      <td>3</td>\n",
       "      <td>43167.32682</td>\n",
       "      <td>6</td>\n",
       "    </tr>\n",
       "    <tr>\n",
       "      <th>4</th>\n",
       "      <td>117384.68</td>\n",
       "      <td>1</td>\n",
       "      <td>4</td>\n",
       "      <td>12770.11290</td>\n",
       "      <td>6</td>\n",
       "    </tr>\n",
       "  </tbody>\n",
       "</table>\n",
       "</div>"
      ],
      "text/plain": [
       "       preco  vendido  idade_do_modelo   km_por_ano  modelo\n",
       "0   30941.02        1               18  35085.22134      19\n",
       "1   40557.96        1               20  12622.05362      19\n",
       "2   89627.50        0               12  11440.79806      14\n",
       "3   95276.14        0                3  43167.32682       6\n",
       "4  117384.68        1                4  12770.11290       6"
      ]
     },
     "execution_count": 28,
     "metadata": {},
     "output_type": "execute_result"
    }
   ],
   "source": [
    "dados.head()"
   ]
  },
  {
   "cell_type": "code",
   "execution_count": 29,
   "id": "c848e5f3-8983-4044-bcfc-346ce88e1606",
   "metadata": {
    "collapsed": true,
    "jupyter": {
     "outputs_hidden": true
    },
    "tags": []
   },
   "outputs": [
    {
     "data": {
      "text/plain": [
       "19    925\n",
       "17    799\n",
       "18    780\n",
       "16    689\n",
       "15    681\n",
       "20    673\n",
       "14    635\n",
       "13    579\n",
       "21    548\n",
       "12    531\n",
       "11    488\n",
       "10    425\n",
       "22    412\n",
       "9     400\n",
       "8     315\n",
       "7     271\n",
       "6     222\n",
       "23    203\n",
       "5     180\n",
       "4     119\n",
       "3      69\n",
       "2      28\n",
       "1      23\n",
       "0       5\n",
       "Name: modelo, dtype: int64"
      ]
     },
     "execution_count": 29,
     "metadata": {},
     "output_type": "execute_result"
    }
   ],
   "source": [
    "dados.modelo.value_counts()"
   ]
  },
  {
   "cell_type": "markdown",
   "id": "602e2f0f-b0a7-4dbe-87b3-dafc3f08a30c",
   "metadata": {},
   "source": [
    "## GroupKFold:"
   ]
  },
  {
   "cell_type": "markdown",
   "id": "7ad92864-99dd-4b30-b1e9-03eab8801c2d",
   "metadata": {},
   "source": [
    "* Capaz de separar treino e teste na validação cruzada, de acordo com os grupos."
   ]
  },
  {
   "cell_type": "code",
   "execution_count": 30,
   "id": "0b170f8b-6e90-4b89-9099-0a599cb7ba0c",
   "metadata": {},
   "outputs": [
    {
     "data": {
      "text/html": [
       "<div>\n",
       "<style scoped>\n",
       "    .dataframe tbody tr th:only-of-type {\n",
       "        vertical-align: middle;\n",
       "    }\n",
       "\n",
       "    .dataframe tbody tr th {\n",
       "        vertical-align: top;\n",
       "    }\n",
       "\n",
       "    .dataframe thead th {\n",
       "        text-align: right;\n",
       "    }\n",
       "</style>\n",
       "<table border=\"1\" class=\"dataframe\">\n",
       "  <thead>\n",
       "    <tr style=\"text-align: right;\">\n",
       "      <th></th>\n",
       "      <th>preco</th>\n",
       "      <th>vendido</th>\n",
       "      <th>idade_do_modelo</th>\n",
       "      <th>km_por_ano</th>\n",
       "      <th>modelo</th>\n",
       "    </tr>\n",
       "  </thead>\n",
       "  <tbody>\n",
       "    <tr>\n",
       "      <th>4999</th>\n",
       "      <td>74023.29</td>\n",
       "      <td>0</td>\n",
       "      <td>12</td>\n",
       "      <td>24812.80412</td>\n",
       "      <td>15</td>\n",
       "    </tr>\n",
       "    <tr>\n",
       "      <th>5322</th>\n",
       "      <td>84843.49</td>\n",
       "      <td>0</td>\n",
       "      <td>13</td>\n",
       "      <td>23095.63834</td>\n",
       "      <td>13</td>\n",
       "    </tr>\n",
       "    <tr>\n",
       "      <th>5319</th>\n",
       "      <td>83100.27</td>\n",
       "      <td>0</td>\n",
       "      <td>19</td>\n",
       "      <td>36240.72746</td>\n",
       "      <td>18</td>\n",
       "    </tr>\n",
       "    <tr>\n",
       "      <th>5316</th>\n",
       "      <td>87932.13</td>\n",
       "      <td>0</td>\n",
       "      <td>16</td>\n",
       "      <td>32249.56426</td>\n",
       "      <td>19</td>\n",
       "    </tr>\n",
       "    <tr>\n",
       "      <th>5315</th>\n",
       "      <td>77937.01</td>\n",
       "      <td>0</td>\n",
       "      <td>15</td>\n",
       "      <td>28414.50704</td>\n",
       "      <td>14</td>\n",
       "    </tr>\n",
       "  </tbody>\n",
       "</table>\n",
       "</div>"
      ],
      "text/plain": [
       "         preco  vendido  idade_do_modelo   km_por_ano  modelo\n",
       "4999  74023.29        0               12  24812.80412      15\n",
       "5322  84843.49        0               13  23095.63834      13\n",
       "5319  83100.27        0               19  36240.72746      18\n",
       "5316  87932.13        0               16  32249.56426      19\n",
       "5315  77937.01        0               15  28414.50704      14"
      ]
     },
     "execution_count": 30,
     "metadata": {},
     "output_type": "execute_result"
    }
   ],
   "source": [
    "dados_azar = dados.sort_values(\"vendido\", ascending=True)\n",
    "x_azar = dados_azar[[\"preco\", \"idade_do_modelo\",\"km_por_ano\"]]\n",
    "y_azar = dados_azar[\"vendido\"]\n",
    "dados_azar.head()"
   ]
  },
  {
   "cell_type": "code",
   "execution_count": 31,
   "id": "2e0df31a-bda5-40dd-a37d-f833bf9b1798",
   "metadata": {},
   "outputs": [
    {
     "name": "stdout",
     "output_type": "stream",
     "text": [
      "Accuracy médio 75.78\n",
      "Accuracy intervalo = [73.48, 78.09]\n"
     ]
    }
   ],
   "source": [
    "cvv = GroupKFold(n_splits = 10) #GroupKFold\n",
    "modelo = DecisionTreeClassifier(max_depth=2)\n",
    "results = cross_validate(modelo, x_azar, y_azar, cv = cvv, groups = dados.modelo, return_train_score=False) # Passo aqui meu groups com o nosso modelo para o agrupamento\n",
    "imprime_resultado(results)"
   ]
  },
  {
   "cell_type": "markdown",
   "id": "1ac6b4f9-b0be-4725-aad5-dc0b4c1de4af",
   "metadata": {},
   "source": [
    "# ---------------------------------------PIPELINE DE TREINO E VALIDAÇÃO---------------------------------------\n",
    "\n",
    "    * CV com StandardScaler (reesc)\n",
    "    * Treinar usando o módulo SVC\n",
    "    * O que é pipeline\n",
    "    * Utilizar o pipeline"
   ]
  },
  {
   "cell_type": "markdown",
   "id": "090223db-198f-4aa9-904c-b8a7d8bf0e7a",
   "metadata": {},
   "source": [
    "## CV com StandardScaler:"
   ]
  },
  {
   "cell_type": "code",
   "execution_count": 34,
   "id": "f6dd4a21-d009-4c3b-b185-7afd17ef12fd",
   "metadata": {},
   "outputs": [
    {
     "name": "stdout",
     "output_type": "stream",
     "text": [
      "A acurácia foi 74.40%\n"
     ]
    }
   ],
   "source": [
    "from sklearn.preprocessing import StandardScaler\n",
    "from sklearn.svm import SVC\n",
    "\n",
    "SEED = 301\n",
    "np.random.seed(SEED)\n",
    "\n",
    "scaler = StandardScaler()\n",
    "scaler.fit(treino_x)\n",
    "treino_x_escalado = scaler.transform(treino_x)\n",
    "teste_x_escalado = scaler.transform(teste_x)\n",
    "\n",
    "modelo = SVC()\n",
    "modelo.fit(treino_x_escalado, treino_y)\n",
    "previsoes = modelo.predict(teste_x_escalado)\n",
    "\n",
    "acuracia = accuracy_score(teste_y, previsoes) * 100\n",
    "print(\"A acurácia foi %.2f%%\" % acuracia)"
   ]
  },
  {
   "cell_type": "code",
   "execution_count": 36,
   "id": "4e21f4c2-080c-4097-9af3-cf1efeab63a5",
   "metadata": {},
   "outputs": [
    {
     "name": "stdout",
     "output_type": "stream",
     "text": [
      "Accuracy médio 76.68\n",
      "Accuracy intervalo = [74.82, 78.54]\n"
     ]
    }
   ],
   "source": [
    "# Aqui faço o fit somente uma vez, porém, deve ser feito em todos os grupos do KFold, por isso usamos o pipeline ali em baixo\n",
    "scaler = StandardScaler()\n",
    "scaler.fit(x_azar)\n",
    "x_azar_escalado = scaler.transform(x_azar)\n",
    "\n",
    "\n",
    "from sklearn.model_selection import GroupKFold\n",
    "\n",
    "SEED = 301\n",
    "np.random.seed(SEED)\n",
    "\n",
    "cv = GroupKFold(n_splits = 10)\n",
    "modelo = SVC()\n",
    "results = cross_validate(modelo, x_azar_escalado, y_azar, cv = cv, groups = dados.modelo, return_train_score=False)\n",
    "imprime_resultado(results)"
   ]
  },
  {
   "cell_type": "markdown",
   "id": "590e08af-d52e-4247-afca-0e01769ed4f9",
   "metadata": {},
   "source": [
    "## PIPELINE"
   ]
  },
  {
   "cell_type": "markdown",
   "id": "9b42c2f0-c1ab-4032-aea2-1ee9c6782410",
   "metadata": {},
   "source": [
    " * Toda vez que rodamos o GroupKFold, temos que fazer o fit() com uma parte de treino e rodar a validação com o teste. Se tivermos outro treino, rodaremos fit() para esse outro treino, e o teste com o resto. Assim, teremos um processo de duas fases: ESCALAR E VALIDAR\n",
    " * Esse processo deve ser rodado várias vezes, de acordo com os nossos grupos e com nossos com nossos splits. Então, precisamos pensar em outra forma, além de fazer o fit() somente uma vez e, depois, rodar o GroupKFold.\n",
    " * Ai que vem o Pipeline: primeiro uma transformação, que é o Standrscaler(), e depois um estimador que é um SVC().\n",
    " * E vamos rodar esse código. Agora sim, para cada um dos processos de fold, serão rodados tanto a transformacao, quanto o estimador. Depois, outro conjunto de dados será separado em dois, tanto a transformacao, quanto o estimador. Portanto, a execução do código vai demorar um pouco mais. O importante é que teremos uma estimativa mais realista do modelo SVC(), com StandardScaler, no mundo real, considerando agrupamentos. "
   ]
  },
  {
   "cell_type": "code",
   "execution_count": 38,
   "id": "b269510c-a1e5-45b1-8711-1dba5b1a85c9",
   "metadata": {},
   "outputs": [
    {
     "name": "stdout",
     "output_type": "stream",
     "text": [
      "Accuracy médio 76.70\n",
      "Accuracy intervalo = [74.84, 78.56]\n"
     ]
    }
   ],
   "source": [
    "from sklearn.pipeline import Pipeline\n",
    "\n",
    "SEED = 301\n",
    "np.random.seed(SEED)\n",
    "\n",
    "scaler = StandardScaler()\n",
    "modelo = SVC()\n",
    "\n",
    "pipeline = Pipeline([('transformacao',scaler), ('estimador',modelo)])\n",
    "\n",
    "cv = GroupKFold(n_splits = 10)\n",
    "results = cross_validate(pipeline, x_azar, y_azar, cv = cv, groups = dados.modelo, return_train_score=False)\n",
    "imprime_resultado(results)"
   ]
  },
  {
   "cell_type": "markdown",
   "id": "f6a3985f-9a5f-4b42-938e-9c1ac9a1fdc8",
   "metadata": {},
   "source": [
    "* Reparem que o valor anterior e este não são tão distantes, mas é preciso entender que a forma feita anteriormente estava errada, porque rodávamos o scaler somente uma vez, para depois rodar os KFolds. Não é questão de estar melhor ou pior, pois estamos falando de um processo, que deve ser rodado para cada uma das fases de treino. Portanto, se tivermos 10 fases de treino, teremos que rodar o scaler para cada uma do conjunto de treino. E é isso que o Pipeline faz para nós, de forma muito mais prática. Basta inserir todas as fases nele e rodar. Claro, pode demorar um pouco mais, mas é a opção que faz mais sentido."
   ]
  },
  {
   "cell_type": "code",
   "execution_count": null,
   "id": "ea0bdd5a-fa95-4275-b96d-7a16d9623fd0",
   "metadata": {},
   "outputs": [],
   "source": []
  },
  {
   "cell_type": "code",
   "execution_count": null,
   "id": "2e6b33aa-9226-4292-a245-b93112f298a7",
   "metadata": {},
   "outputs": [],
   "source": []
  },
  {
   "cell_type": "code",
   "execution_count": null,
   "id": "434df60d-0fef-424a-adce-4e8fc633990f",
   "metadata": {},
   "outputs": [],
   "source": []
  }
 ],
 "metadata": {
  "kernelspec": {
   "display_name": "Python 3",
   "language": "python",
   "name": "python3"
  },
  "language_info": {
   "codemirror_mode": {
    "name": "ipython",
    "version": 3
   },
   "file_extension": ".py",
   "mimetype": "text/x-python",
   "name": "python",
   "nbconvert_exporter": "python",
   "pygments_lexer": "ipython3",
   "version": "3.8.10"
  }
 },
 "nbformat": 4,
 "nbformat_minor": 5
}
